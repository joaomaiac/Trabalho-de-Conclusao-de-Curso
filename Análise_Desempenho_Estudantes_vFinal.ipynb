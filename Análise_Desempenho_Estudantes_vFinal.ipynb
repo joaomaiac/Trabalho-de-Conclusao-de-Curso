{
  "nbformat": 4,
  "nbformat_minor": 0,
  "metadata": {
    "colab": {
      "provenance": []
    },
    "kernelspec": {
      "name": "python3",
      "display_name": "Python 3"
    },
    "language_info": {
      "name": "python"
    }
  },
  "cells": [
    {
      "cell_type": "markdown",
      "source": [
        "Importando bibliotecas"
      ],
      "metadata": {
        "id": "w0CVA9tqwdei"
      }
    },
    {
      "cell_type": "code",
      "execution_count": 1,
      "metadata": {
        "id": "ZiX-OVMfwNtj"
      },
      "outputs": [],
      "source": [
        "import math  \n",
        "import numpy as np                                                       \n",
        "import pandas as pd\n",
        "import seaborn as sns\n",
        "from google.colab import drive\n",
        "import matplotlib.pyplot as plt"
      ]
    },
    {
      "cell_type": "code",
      "source": [
        "drive.mount('/content/drive')"
      ],
      "metadata": {
        "colab": {
          "base_uri": "https://localhost:8080/"
        },
        "id": "azKqISuqyLb8",
        "outputId": "0a481ec2-7cd7-4b7e-9882-0c0c6a0b084d"
      },
      "execution_count": 2,
      "outputs": [
        {
          "output_type": "stream",
          "name": "stdout",
          "text": [
            "Mounted at /content/drive\n"
          ]
        }
      ]
    },
    {
      "cell_type": "code",
      "source": [
        "# Importando base unificada das notas dos estudantes da disciplina de programação\n",
        "df_programacao = pd.read_excel('/content/drive/MyDrive/8 Periodo/TCC/Bases/Fundamentos_Programacão.xlsx')\n",
        "\n",
        "# Importando base unificada das notas dos estudantes da disciplina de matemática\n",
        "df_matematica = pd.read_excel('/content/drive/MyDrive/8 Periodo/TCC/Bases/Matemática_Computação.xlsx')\n",
        "\n",
        "# Importando base unificada das notas dos estudantes da disciplina de lógica\n",
        "df_logica = pd.read_excel('/content/drive/MyDrive/8 Periodo/TCC/Bases/Lógica_Matemática.xlsx')\n",
        "\n"
      ],
      "metadata": {
        "id": "JAXm1e4_wdJg"
      },
      "execution_count": 3,
      "outputs": []
    },
    {
      "cell_type": "markdown",
      "source": [
        "# **Tratamento dos Dados**"
      ],
      "metadata": {
        "id": "kePR5MIxxxa2"
      }
    },
    {
      "cell_type": "markdown",
      "source": [
        "Transformando os valores das colunas 'Ano', 'Aluno', 'Faltas' e 'Período' "
      ],
      "metadata": {
        "id": "QdRAHY_Yyk8n"
      }
    },
    {
      "cell_type": "code",
      "source": [
        "# Tratando a coluna Ano\n",
        "df_programacao['Ano'] = pd.to_numeric(df_programacao['Ano'], downcast='integer')\n",
        "df_matematica['Ano'] = pd.to_numeric(df_matematica['Ano'], downcast='integer')\n",
        "df_logica['Ano'] = pd.to_numeric(df_logica['Ano'], downcast='integer')\n",
        "\n",
        "# Tratando a coluna Aluno\n",
        "df_programacao['Aluno'] = pd.to_numeric(df_programacao['Aluno'], downcast='integer')\n",
        "df_matematica['Aluno'] = pd.to_numeric(df_matematica['Aluno'], downcast='integer')\n",
        "df_logica['Aluno'] = pd.to_numeric(df_logica['Aluno'], downcast='integer')\n",
        "\n",
        "# Tratando a coluna Faltas\n",
        "df_programacao['Faltas'] = pd.to_numeric(df_programacao['Faltas'], downcast='integer')\n",
        "df_matematica['Faltas'] = pd.to_numeric(df_matematica['Faltas'], downcast='integer')\n",
        "df_logica['Faltas'] = pd.to_numeric(df_logica['Faltas'], downcast='integer')\n",
        "\n",
        "# Tratando a coluna Período\n",
        "df_programacao['Período'] = pd.to_numeric(df_programacao['Período'], downcast='integer')\n",
        "df_matematica['Período'] = pd.to_numeric(df_matematica['Período'], downcast='integer')\n",
        "df_logica['Período'] = pd.to_numeric(df_logica['Período'], downcast='integer')"
      ],
      "metadata": {
        "id": "6lyOD2XbM56L"
      },
      "execution_count": 4,
      "outputs": []
    },
    {
      "cell_type": "markdown",
      "source": [
        "Removendo espaços indesejáveis dos valores da coluna de 'Situação'"
      ],
      "metadata": {
        "id": "3uT77iuKy-_1"
      }
    },
    {
      "cell_type": "code",
      "source": [
        "df_programacao['Situação'] = df_programacao['Situação'].str.strip()\n",
        "df_matematica['Situação'] = df_matematica['Situação'].str.strip()\n",
        "df_logica['Situação'] = df_logica['Situação'].str.strip()"
      ],
      "metadata": {
        "id": "LbqSJIyR5HnZ"
      },
      "execution_count": 5,
      "outputs": []
    },
    {
      "cell_type": "markdown",
      "source": [
        "Unificando as bases"
      ],
      "metadata": {
        "id": "FYZw07g10IKe"
      }
    },
    {
      "cell_type": "code",
      "source": [
        "# Adiciona coluna de disciplina em cada base para realizar a unificação\n",
        "df_programacao_coluna = df_programacao.assign(Disciplina='Programação')\n",
        "df_matematica_coluna = df_matematica.assign(Disciplina='Matemática')\n",
        "df_logica_coluna = df_logica.assign(Disciplina='Lógica')\n",
        "\n",
        "# merge entre as bases\n",
        "df_merge_prog_mat = pd.merge(df_programacao_coluna, df_matematica_coluna, how = 'outer')\n",
        "df_disciplinas_unificadas_PreExclusao = pd.merge(df_merge_prog_mat, df_logica_coluna, how = 'outer')"
      ],
      "metadata": {
        "id": "6bOXDBvDCna_"
      },
      "execution_count": 6,
      "outputs": []
    },
    {
      "cell_type": "code",
      "source": [
        "# Remove aprovados que estão com média abaixo de 5\n",
        "index_names_mat = df_matematica[ (df_matematica['Média'] <=4.9) & (df_matematica['Situação'] == 'Aprovado')].index\n",
        "df_matematica_coluna.drop(index_names_mat, inplace = True)\n",
        "print(\"Index que serão excluídos do df_matematica\", index_names_mat)\n",
        "\n",
        "# Remove aprovados que estão com média abaixo de 5\n",
        "index_names_log = df_logica[ (df_logica['Média'] <=4.9) & (df_logica['Situação'] == 'Aprovado')].index\n",
        "df_logica_coluna.drop(index_names_log, inplace = True)\n",
        "print(\"Index que serão excluídos do df_logica\", index_names_log)\n",
        "\n",
        "# Remove aprovados que estão com média abaixo de 5\n",
        "index_names_pro = df_programacao[ (df_programacao['Média'] <=4.9) & (df_programacao['Situação'] == 'Aprovado')].index\n",
        "df_programacao_coluna.drop(index_names_pro, inplace = True)\n",
        "print(\"Index que serão excluídos do df_programacao\", index_names_pro)"
      ],
      "metadata": {
        "id": "zA93qMaJkV0Z",
        "colab": {
          "base_uri": "https://localhost:8080/"
        },
        "outputId": "69ba3b5f-cc38-497d-d18f-8b1b781cf557"
      },
      "execution_count": 7,
      "outputs": [
        {
          "output_type": "stream",
          "name": "stdout",
          "text": [
            "Index que serão excluídos do df_matematica Int64Index([30, 42], dtype='int64')\n",
            "Index que serão excluídos do df_logica Int64Index([72, 74], dtype='int64')\n",
            "Index que serão excluídos do df_programacao Int64Index([], dtype='int64')\n"
          ]
        }
      ]
    },
    {
      "cell_type": "code",
      "source": [
        "# Filtrando apenas os alunos que cursaram e não possuem nota 0.0\n",
        "## Verificamos que alguns casos dos alunos reprovados por nota veio com média vazia. Foi verificado na base que não possuí alunos com média 0.0\n",
        "### Como tratamento (no Excel) dos valores nulos, definimos essas médias como 0.0.\n",
        "\n",
        "# Realizamos os filtros nas bases remover alunos que cancelaram ou trancaram curso, além de remover as médias 0.0 (casos das médias nulas)\n",
        "df_cursaram_prog = df_programacao_coluna[(df_programacao_coluna.Média != 0) & (df_programacao_coluna.Situação != 'Trancado') & (df_programacao_coluna.Situação != 'Cancelado')] \n",
        "df_cursaram_mat = df_matematica_coluna[(df_matematica_coluna.Média != 0) & (df_matematica_coluna.Situação != 'Trancado') & (df_matematica_coluna.Situação != 'Cancelado')] \n",
        "df_cursaram_log = df_logica_coluna[(df_logica_coluna.Média != 0) & (df_logica_coluna.Situação != 'Trancado') & (df_logica_coluna.Situação != 'Cancelado')] \n",
        "\n",
        "# Unificação das bases tratadas\n",
        "df_prog_mat = pd.merge(df_cursaram_prog, df_cursaram_mat, how = 'outer')\n",
        "df_base_unificada_tratada= pd.merge(df_prog_mat, df_cursaram_log, how = 'outer')\n"
      ],
      "metadata": {
        "id": "okajWP5LreHE"
      },
      "execution_count": 8,
      "outputs": []
    },
    {
      "cell_type": "markdown",
      "source": [
        "#**Taxa de Aprovação / Reprovação**"
      ],
      "metadata": {
        "id": "oxVR6f7nb8FP"
      }
    },
    {
      "cell_type": "code",
      "source": [
        "# Procentagem da distribuição da situação final dos alunos na cadeira de programação (2018 - 2022.1)\n",
        "df_tx_Programacao = df_programacao_coluna.mask(df_programacao == 'Rep Nota', 'Reprovado')\n",
        "df_tx_Programacao = df_tx_Programacao.mask(df_programacao == 'Rep Freq', 'Reprovado')\n",
        "df_tx_Programacao = df_tx_Programacao.query('Situação != \"Cancelado\" and Situação != \"Trancado\"')['Situação']\n",
        "df_tx_Programacao = pd.DataFrame(round(df_tx_Programacao.value_counts(normalize = True)*100, 2))\n",
        "\n",
        "# Procentagem da distribuição da situação final dos alunos na cadeira de Matemática (2018 - 2022.1)\n",
        "df_tx_Matematica = df_matematica_coluna.mask(df_matematica == 'Rep Nota', 'Reprovado')\n",
        "df_tx_Matematica = df_tx_Matematica.mask(df_matematica == 'Rep Freq', 'Reprovado')\n",
        "df_tx_Matematica = df_tx_Matematica.query('Situação != \"Cancelado\" and Situação != \"Trancado\"')['Situação']\n",
        "df_tx_Matematica = pd.DataFrame(round(df_tx_Matematica.value_counts(normalize = True)*100, 2))\n",
        "\n",
        "# Procentagem da distribuição da situação final dos alunos na cadeira de Matemática (2018.2 - 2022.1)\n",
        "df_tx_Logica = df_logica_coluna.mask(df_logica == 'Rep Nota', 'Reprovado')\n",
        "df_tx_Logica = df_tx_Logica.mask(df_logica == 'Rep Freq', 'Reprovado')\n",
        "df_tx_Logica = df_tx_Logica.query('Situação != \"Cancelado\" and Situação != \"Trancado\"')['Situação']\n",
        "df_tx_Logica = pd.DataFrame(round(df_tx_Logica.value_counts(normalize = True)*100, 2))\n",
        "\n",
        "# Faz o merge dos df's\n",
        "df_tx_prog_mat= pd.merge(df_tx_Programacao.T, df_tx_Matematica.T, how = 'outer')\n",
        "df_tx_prog_mat_log = pd.merge(df_tx_prog_mat, df_tx_Logica.T, how = 'outer')\n",
        "\n",
        "#Renomeia os index e realiza o transpor\n",
        "df_tx_situacao_Disciplinas = df_tx_prog_mat_log.T\n",
        "df_tx_situacao_Disciplinas.rename(columns={0: 'Fundamentos de Programação', 1: 'Matemática para Computação',  2: 'Lógica Matemática para Computação'}, inplace=True)\n",
        "df_tx_situacao_Disciplinas = df_tx_situacao_Disciplinas.T\n",
        "df_tx_situacao_Disciplinas.sort_values('Aprovado', ascending=False)"
      ],
      "metadata": {
        "colab": {
          "base_uri": "https://localhost:8080/",
          "height": 143
        },
        "id": "CLPoTl1mcEc-",
        "outputId": "99bfdccc-5ee0-4901-e3fe-63c1b452fce0"
      },
      "execution_count": 9,
      "outputs": [
        {
          "output_type": "execute_result",
          "data": {
            "text/plain": [
              "                                   Aprovado  Reprovado\n",
              "Lógica Matemática para Computação     87.36      12.64\n",
              "Matemática para Computação            75.40      24.60\n",
              "Fundamentos de Programação            71.43      28.57"
            ],
            "text/html": [
              "\n",
              "  <div id=\"df-0923414d-70e2-4bda-b945-be4f43487103\">\n",
              "    <div class=\"colab-df-container\">\n",
              "      <div>\n",
              "<style scoped>\n",
              "    .dataframe tbody tr th:only-of-type {\n",
              "        vertical-align: middle;\n",
              "    }\n",
              "\n",
              "    .dataframe tbody tr th {\n",
              "        vertical-align: top;\n",
              "    }\n",
              "\n",
              "    .dataframe thead th {\n",
              "        text-align: right;\n",
              "    }\n",
              "</style>\n",
              "<table border=\"1\" class=\"dataframe\">\n",
              "  <thead>\n",
              "    <tr style=\"text-align: right;\">\n",
              "      <th></th>\n",
              "      <th>Aprovado</th>\n",
              "      <th>Reprovado</th>\n",
              "    </tr>\n",
              "  </thead>\n",
              "  <tbody>\n",
              "    <tr>\n",
              "      <th>Lógica Matemática para Computação</th>\n",
              "      <td>87.36</td>\n",
              "      <td>12.64</td>\n",
              "    </tr>\n",
              "    <tr>\n",
              "      <th>Matemática para Computação</th>\n",
              "      <td>75.40</td>\n",
              "      <td>24.60</td>\n",
              "    </tr>\n",
              "    <tr>\n",
              "      <th>Fundamentos de Programação</th>\n",
              "      <td>71.43</td>\n",
              "      <td>28.57</td>\n",
              "    </tr>\n",
              "  </tbody>\n",
              "</table>\n",
              "</div>\n",
              "      <button class=\"colab-df-convert\" onclick=\"convertToInteractive('df-0923414d-70e2-4bda-b945-be4f43487103')\"\n",
              "              title=\"Convert this dataframe to an interactive table.\"\n",
              "              style=\"display:none;\">\n",
              "        \n",
              "  <svg xmlns=\"http://www.w3.org/2000/svg\" height=\"24px\"viewBox=\"0 0 24 24\"\n",
              "       width=\"24px\">\n",
              "    <path d=\"M0 0h24v24H0V0z\" fill=\"none\"/>\n",
              "    <path d=\"M18.56 5.44l.94 2.06.94-2.06 2.06-.94-2.06-.94-.94-2.06-.94 2.06-2.06.94zm-11 1L8.5 8.5l.94-2.06 2.06-.94-2.06-.94L8.5 2.5l-.94 2.06-2.06.94zm10 10l.94 2.06.94-2.06 2.06-.94-2.06-.94-.94-2.06-.94 2.06-2.06.94z\"/><path d=\"M17.41 7.96l-1.37-1.37c-.4-.4-.92-.59-1.43-.59-.52 0-1.04.2-1.43.59L10.3 9.45l-7.72 7.72c-.78.78-.78 2.05 0 2.83L4 21.41c.39.39.9.59 1.41.59.51 0 1.02-.2 1.41-.59l7.78-7.78 2.81-2.81c.8-.78.8-2.07 0-2.86zM5.41 20L4 18.59l7.72-7.72 1.47 1.35L5.41 20z\"/>\n",
              "  </svg>\n",
              "      </button>\n",
              "      \n",
              "  <style>\n",
              "    .colab-df-container {\n",
              "      display:flex;\n",
              "      flex-wrap:wrap;\n",
              "      gap: 12px;\n",
              "    }\n",
              "\n",
              "    .colab-df-convert {\n",
              "      background-color: #E8F0FE;\n",
              "      border: none;\n",
              "      border-radius: 50%;\n",
              "      cursor: pointer;\n",
              "      display: none;\n",
              "      fill: #1967D2;\n",
              "      height: 32px;\n",
              "      padding: 0 0 0 0;\n",
              "      width: 32px;\n",
              "    }\n",
              "\n",
              "    .colab-df-convert:hover {\n",
              "      background-color: #E2EBFA;\n",
              "      box-shadow: 0px 1px 2px rgba(60, 64, 67, 0.3), 0px 1px 3px 1px rgba(60, 64, 67, 0.15);\n",
              "      fill: #174EA6;\n",
              "    }\n",
              "\n",
              "    [theme=dark] .colab-df-convert {\n",
              "      background-color: #3B4455;\n",
              "      fill: #D2E3FC;\n",
              "    }\n",
              "\n",
              "    [theme=dark] .colab-df-convert:hover {\n",
              "      background-color: #434B5C;\n",
              "      box-shadow: 0px 1px 3px 1px rgba(0, 0, 0, 0.15);\n",
              "      filter: drop-shadow(0px 1px 2px rgba(0, 0, 0, 0.3));\n",
              "      fill: #FFFFFF;\n",
              "    }\n",
              "  </style>\n",
              "\n",
              "      <script>\n",
              "        const buttonEl =\n",
              "          document.querySelector('#df-0923414d-70e2-4bda-b945-be4f43487103 button.colab-df-convert');\n",
              "        buttonEl.style.display =\n",
              "          google.colab.kernel.accessAllowed ? 'block' : 'none';\n",
              "\n",
              "        async function convertToInteractive(key) {\n",
              "          const element = document.querySelector('#df-0923414d-70e2-4bda-b945-be4f43487103');\n",
              "          const dataTable =\n",
              "            await google.colab.kernel.invokeFunction('convertToInteractive',\n",
              "                                                     [key], {});\n",
              "          if (!dataTable) return;\n",
              "\n",
              "          const docLinkHtml = 'Like what you see? Visit the ' +\n",
              "            '<a target=\"_blank\" href=https://colab.research.google.com/notebooks/data_table.ipynb>data table notebook</a>'\n",
              "            + ' to learn more about interactive tables.';\n",
              "          element.innerHTML = '';\n",
              "          dataTable['output_type'] = 'display_data';\n",
              "          await google.colab.output.renderOutput(dataTable, element);\n",
              "          const docLink = document.createElement('div');\n",
              "          docLink.innerHTML = docLinkHtml;\n",
              "          element.appendChild(docLink);\n",
              "        }\n",
              "      </script>\n",
              "    </div>\n",
              "  </div>\n",
              "  "
            ]
          },
          "metadata": {},
          "execution_count": 9
        }
      ]
    },
    {
      "cell_type": "markdown",
      "source": [
        "# **Análise das médias das disciplinas**"
      ],
      "metadata": {
        "id": "efQG58puZIZa"
      }
    },
    {
      "cell_type": "markdown",
      "source": [
        "<h1><b> Por Ano </b></h1>"
      ],
      "metadata": {
        "id": "7bSxcLw7ZNsW"
      }
    },
    {
      "cell_type": "code",
      "source": [
        "# Calculando as médias das disciplinas por ano (2018 - 2022)\n",
        "\n",
        "Media_Programacao_Ano = []\n",
        "for x in range (2018, 2023):\n",
        "  media = round(df_base_unificada_tratada.query('Disciplina == \"Programação\"')['Média'].loc[df_base_unificada_tratada['Ano']==x].mean(), 2)\n",
        "  Media_Programacao_Ano.append(media)\n",
        "\n",
        "Media_Matematica_Ano = []\n",
        "for x in range (2018, 2023):\n",
        "  media = round(df_base_unificada_tratada.query('Disciplina == \"Matemática\"')['Média'].loc[df_base_unificada_tratada['Ano']==x].mean(), 2)\n",
        "  Media_Matematica_Ano.append(media)\n",
        "\n",
        "Media_Logica_Ano = []\n",
        "for x in range (2018, 2023):\n",
        "  media = round(df_base_unificada_tratada.query('Disciplina == \"Lógica\"')['Média'].loc[df_base_unificada_tratada['Ano']==x].mean(), 2)\n",
        "  Media_Logica_Ano.append(media)\n"
      ],
      "metadata": {
        "id": "qtDqa8-mwo-1"
      },
      "execution_count": 10,
      "outputs": []
    },
    {
      "cell_type": "code",
      "source": [
        "# Gera o gráfico de barras\n",
        "\n",
        "barWidth = 0.25\n",
        "\n",
        "plt.figure(figsize=(10,5))\n",
        "\n",
        "r1 = np.arange(len(Media_Programacao_Ano))\n",
        "r2 = [x + barWidth for x in r1]\n",
        "r3 = [x + barWidth for x in r2]\n",
        "\n",
        "plt.bar(r1, Media_Programacao_Ano, color = '#acd48c', width = barWidth, label = 'Programação')\n",
        "plt.bar(r2, Media_Matematica_Ano, color = '#Fbe49c', width = barWidth, label = 'Matemática')\n",
        "plt.bar(r3, Media_Logica_Ano, color = '#d4accc', width = barWidth, label = 'Lógica')\n",
        "\n",
        "plt.xlabel('Anos')\n",
        "plt.xticks([r + barWidth for r in range(len(Media_Programacao_Ano))], ['2018', '2019', '2020', '2021', '2022'])\n",
        "plt.yticks(np.arange(0,11))\n",
        "plt.ylabel(\"Média\")\n",
        "\n",
        "plt.legend()\n",
        "plt.show()"
      ],
      "metadata": {
        "colab": {
          "base_uri": "https://localhost:8080/",
          "height": 338
        },
        "id": "r8V4m5waC2Fg",
        "outputId": "9353b409-5e79-4406-9903-8541fb737c16"
      },
      "execution_count": 11,
      "outputs": [
        {
          "output_type": "display_data",
          "data": {
            "text/plain": [
              "<Figure size 720x360 with 1 Axes>"
            ],
            "image/png": "[encoded data removed]"
          },
          "metadata": {
            "needs_background": "light"
          }
        }
      ]
    },
    {
      "cell_type": "markdown",
      "source": [
        "<h1><b>Período Letivo</b></h1>"
      ],
      "metadata": {
        "id": "cpc7FkD7aLdS"
      }
    },
    {
      "cell_type": "code",
      "source": [
        "média_prog_periodo_letivo = []\n",
        "media1 = df_base_unificada_tratada.query('Disciplina == \"Programação\"')['Média'].loc[df_base_unificada_tratada['Período_Letivo']==2018.1] .mean()\n",
        "média_prog_periodo_letivo.append(media1)\n",
        "\n",
        "media2 = df_base_unificada_tratada.query('Disciplina == \"Programação\"')['Média'].loc[df_base_unificada_tratada['Período_Letivo']==2019.1] .mean()\n",
        "média_prog_periodo_letivo.append(media2)\n",
        "\n",
        "media3 = df_base_unificada_tratada.query('Disciplina == \"Programação\"')['Média'].loc[df_base_unificada_tratada['Período_Letivo']==2020.1] .mean()\n",
        "média_prog_periodo_letivo.append(media3)\n",
        "\n",
        "media4 = df_base_unificada_tratada.query('Disciplina == \"Programação\"')['Média'].loc[df_base_unificada_tratada['Período_Letivo']==2021.1] .mean()\n",
        "média_prog_periodo_letivo.append(media4)\n",
        "\n",
        "media5 = df_base_unificada_tratada.query('Disciplina == \"Programação\"')['Média'].loc[df_base_unificada_tratada['Período_Letivo']==2022.1] .mean()\n",
        "média_prog_periodo_letivo.append(media5)\n",
        "\n",
        "média_matematica_periodo_letivo = []\n",
        "media1 = df_base_unificada_tratada.query('Disciplina == \"Matemática\"')['Média'].loc[df_base_unificada_tratada['Período_Letivo']==2018.1] .mean()\n",
        "média_matematica_periodo_letivo.append(media1)\n",
        "\n",
        "media2 = df_base_unificada_tratada.query('Disciplina == \"Matemática\"')['Média'].loc[df_base_unificada_tratada['Período_Letivo']==2019.1] .mean()\n",
        "média_matematica_periodo_letivo.append(media2)\n",
        "\n",
        "media3 = df_base_unificada_tratada.query('Disciplina == \"Matemática\"')['Média'].loc[df_base_unificada_tratada['Período_Letivo']==2020.1] .mean()\n",
        "média_matematica_periodo_letivo.append(media3)\n",
        "\n",
        "media4 = df_base_unificada_tratada.query('Disciplina == \"Matemática\"')['Média'].loc[df_base_unificada_tratada['Período_Letivo']==2021.1] .mean()\n",
        "média_matematica_periodo_letivo.append(media4)\n",
        "\n",
        "media5 = df_base_unificada_tratada.query('Disciplina == \"Matemática\"')['Média'].loc[df_base_unificada_tratada['Período_Letivo']==2022.1] .mean()\n",
        "média_matematica_periodo_letivo.append(media5)\n",
        "\n",
        "\n",
        "média_log_periodo_letivo = []\n",
        "media1 = df_base_unificada_tratada.query('Disciplina == \"Lógica\"')['Média'].loc[df_base_unificada_tratada['Período_Letivo']==2018.1] .mean()\n",
        "média_log_periodo_letivo.append(media1)\n",
        "\n",
        "media2 = df_base_unificada_tratada.query('Disciplina == \"Lógica\"')['Média'].loc[df_base_unificada_tratada['Período_Letivo']==2019.1] .mean()\n",
        "média_log_periodo_letivo.append(media2)\n",
        "\n",
        "media3 = df_base_unificada_tratada.query('Disciplina == \"Lógica\"')['Média'].loc[df_base_unificada_tratada['Período_Letivo']==2020.1] .mean()\n",
        "média_log_periodo_letivo.append(media3)\n",
        "\n",
        "media4 = df_base_unificada_tratada.query('Disciplina == \"Lógica\"')['Média'].loc[df_base_unificada_tratada['Período_Letivo']==2021.1] .mean()\n",
        "média_log_periodo_letivo.append(media4)\n",
        "\n",
        "media5 = df_base_unificada_tratada.query('Disciplina == \"Lógica\"')['Média'].loc[df_base_unificada_tratada['Período_Letivo']==2022.1] .mean()\n",
        "média_log_periodo_letivo.append(media5)"
      ],
      "metadata": {
        "id": "8AjeB-SFZsGd"
      },
      "execution_count": 12,
      "outputs": []
    },
    {
      "cell_type": "code",
      "source": [
        "# Gera o gráfico de barras\n",
        "\n",
        "barWidth = 0.25\n",
        "\n",
        "plt.figure(figsize=(10,5))\n",
        "\n",
        "r1 = np.arange(len(média_prog_periodo_letivo))\n",
        "r2 = [x + barWidth for x in r1]\n",
        "r3 = [x + barWidth for x in r2]\n",
        "\n",
        "plt.bar(r1, média_prog_periodo_letivo, color = '#acd48c', width = barWidth, label = 'Programação')\n",
        "plt.bar(r2, média_matematica_periodo_letivo, color = '#Fbe49c', width = barWidth, label = 'Matemática')\n",
        "plt.bar(r3, média_log_periodo_letivo, color = '#d4accc', width = barWidth, label = 'Lógica')\n",
        "\n",
        "plt.xlabel('Anos')\n",
        "plt.xticks([r + barWidth for r in range(len(média_prog_periodo_letivo))], ['2018.1', '2019.1', '2020.1', '2021.1', '2022.1'])\n",
        "plt.yticks(np.arange(0,11))\n",
        "plt.ylabel(\"Média\")\n",
        "\n",
        "plt.legend()\n",
        "plt.show()"
      ],
      "metadata": {
        "colab": {
          "base_uri": "https://localhost:8080/",
          "height": 338
        },
        "id": "wGKdY0oLZyfe",
        "outputId": "64351877-5156-4f90-c085-9077c7f4cd23"
      },
      "execution_count": 13,
      "outputs": [
        {
          "output_type": "display_data",
          "data": {
            "text/plain": [
              "<Figure size 720x360 with 1 Axes>"
            ],
            "image/png": "[encoded data removed]"
          },
          "metadata": {
            "needs_background": "light"
          }
        }
      ]
    },
    {
      "cell_type": "markdown",
      "source": [
        "<h1><b> Média Geral por disciplina </b></h1>"
      ],
      "metadata": {
        "id": "WNNXxULnab2s"
      }
    },
    {
      "cell_type": "code",
      "source": [
        "# Média geral dos estudantes por disciplina (Aprovados + Reprovados)\n",
        "\n",
        "dicionário = {\n",
        "    'Média Geral': [round(df_base_unificada_tratada['Média'].loc[df_base_unificada_tratada['Disciplina']==\"Programação\"].mean(),2), round(df_base_unificada_tratada['Média'].loc[df_base_unificada_tratada['Disciplina']==\"Matemática\"].mean(),2), round(df_base_unificada_tratada['Média'].loc[df_base_unificada_tratada['Disciplina']==\"Lógica\"].mean(),2)]\n",
        "}\n",
        "df_geral = pd.DataFrame(dicionário)\n",
        "df1_geral = df_geral.T\n",
        "df1_geral  = df1_geral.rename(columns={0 : 'Programação', 1 : 'Matemática ', 2 : 'Lógica'})\n",
        "\n",
        "\n",
        "\n",
        "df1_geral"
      ],
      "metadata": {
        "colab": {
          "base_uri": "https://localhost:8080/",
          "height": 81
        },
        "id": "dgB6H1qkanhg",
        "outputId": "9c6447b8-6c6e-4780-ab3b-ab46b66f8a2d"
      },
      "execution_count": 14,
      "outputs": [
        {
          "output_type": "execute_result",
          "data": {
            "text/plain": [
              "             Programação  Matemática   Lógica\n",
              "Média Geral         6.47         6.63    7.39"
            ],
            "text/html": [
              "\n",
              "  <div id=\"df-488bb0e3-f7b6-4991-a72c-1a2d91c7c9a0\">\n",
              "    <div class=\"colab-df-container\">\n",
              "      <div>\n",
              "<style scoped>\n",
              "    .dataframe tbody tr th:only-of-type {\n",
              "        vertical-align: middle;\n",
              "    }\n",
              "\n",
              "    .dataframe tbody tr th {\n",
              "        vertical-align: top;\n",
              "    }\n",
              "\n",
              "    .dataframe thead th {\n",
              "        text-align: right;\n",
              "    }\n",
              "</style>\n",
              "<table border=\"1\" class=\"dataframe\">\n",
              "  <thead>\n",
              "    <tr style=\"text-align: right;\">\n",
              "      <th></th>\n",
              "      <th>Programação</th>\n",
              "      <th>Matemática</th>\n",
              "      <th>Lógica</th>\n",
              "    </tr>\n",
              "  </thead>\n",
              "  <tbody>\n",
              "    <tr>\n",
              "      <th>Média Geral</th>\n",
              "      <td>6.47</td>\n",
              "      <td>6.63</td>\n",
              "      <td>7.39</td>\n",
              "    </tr>\n",
              "  </tbody>\n",
              "</table>\n",
              "</div>\n",
              "      <button class=\"colab-df-convert\" onclick=\"convertToInteractive('df-488bb0e3-f7b6-4991-a72c-1a2d91c7c9a0')\"\n",
              "              title=\"Convert this dataframe to an interactive table.\"\n",
              "              style=\"display:none;\">\n",
              "        \n",
              "  <svg xmlns=\"http://www.w3.org/2000/svg\" height=\"24px\"viewBox=\"0 0 24 24\"\n",
              "       width=\"24px\">\n",
              "    <path d=\"M0 0h24v24H0V0z\" fill=\"none\"/>\n",
              "    <path d=\"M18.56 5.44l.94 2.06.94-2.06 2.06-.94-2.06-.94-.94-2.06-.94 2.06-2.06.94zm-11 1L8.5 8.5l.94-2.06 2.06-.94-2.06-.94L8.5 2.5l-.94 2.06-2.06.94zm10 10l.94 2.06.94-2.06 2.06-.94-2.06-.94-.94-2.06-.94 2.06-2.06.94z\"/><path d=\"M17.41 7.96l-1.37-1.37c-.4-.4-.92-.59-1.43-.59-.52 0-1.04.2-1.43.59L10.3 9.45l-7.72 7.72c-.78.78-.78 2.05 0 2.83L4 21.41c.39.39.9.59 1.41.59.51 0 1.02-.2 1.41-.59l7.78-7.78 2.81-2.81c.8-.78.8-2.07 0-2.86zM5.41 20L4 18.59l7.72-7.72 1.47 1.35L5.41 20z\"/>\n",
              "  </svg>\n",
              "      </button>\n",
              "      \n",
              "  <style>\n",
              "    .colab-df-container {\n",
              "      display:flex;\n",
              "      flex-wrap:wrap;\n",
              "      gap: 12px;\n",
              "    }\n",
              "\n",
              "    .colab-df-convert {\n",
              "      background-color: #E8F0FE;\n",
              "      border: none;\n",
              "      border-radius: 50%;\n",
              "      cursor: pointer;\n",
              "      display: none;\n",
              "      fill: #1967D2;\n",
              "      height: 32px;\n",
              "      padding: 0 0 0 0;\n",
              "      width: 32px;\n",
              "    }\n",
              "\n",
              "    .colab-df-convert:hover {\n",
              "      background-color: #E2EBFA;\n",
              "      box-shadow: 0px 1px 2px rgba(60, 64, 67, 0.3), 0px 1px 3px 1px rgba(60, 64, 67, 0.15);\n",
              "      fill: #174EA6;\n",
              "    }\n",
              "\n",
              "    [theme=dark] .colab-df-convert {\n",
              "      background-color: #3B4455;\n",
              "      fill: #D2E3FC;\n",
              "    }\n",
              "\n",
              "    [theme=dark] .colab-df-convert:hover {\n",
              "      background-color: #434B5C;\n",
              "      box-shadow: 0px 1px 3px 1px rgba(0, 0, 0, 0.15);\n",
              "      filter: drop-shadow(0px 1px 2px rgba(0, 0, 0, 0.3));\n",
              "      fill: #FFFFFF;\n",
              "    }\n",
              "  </style>\n",
              "\n",
              "      <script>\n",
              "        const buttonEl =\n",
              "          document.querySelector('#df-488bb0e3-f7b6-4991-a72c-1a2d91c7c9a0 button.colab-df-convert');\n",
              "        buttonEl.style.display =\n",
              "          google.colab.kernel.accessAllowed ? 'block' : 'none';\n",
              "\n",
              "        async function convertToInteractive(key) {\n",
              "          const element = document.querySelector('#df-488bb0e3-f7b6-4991-a72c-1a2d91c7c9a0');\n",
              "          const dataTable =\n",
              "            await google.colab.kernel.invokeFunction('convertToInteractive',\n",
              "                                                     [key], {});\n",
              "          if (!dataTable) return;\n",
              "\n",
              "          const docLinkHtml = 'Like what you see? Visit the ' +\n",
              "            '<a target=\"_blank\" href=https://colab.research.google.com/notebooks/data_table.ipynb>data table notebook</a>'\n",
              "            + ' to learn more about interactive tables.';\n",
              "          element.innerHTML = '';\n",
              "          dataTable['output_type'] = 'display_data';\n",
              "          await google.colab.output.renderOutput(dataTable, element);\n",
              "          const docLink = document.createElement('div');\n",
              "          docLink.innerHTML = docLinkHtml;\n",
              "          element.appendChild(docLink);\n",
              "        }\n",
              "      </script>\n",
              "    </div>\n",
              "  </div>\n",
              "  "
            ]
          },
          "metadata": {},
          "execution_count": 14
        }
      ]
    },
    {
      "cell_type": "code",
      "source": [
        "# Cálculo do desvio padrão geral das disciplinas\n",
        "desvio_padrao_geral = [round(df_base_unificada_tratada['Média'].loc[df_base_unificada_tratada['Disciplina']==\"Programação\"].std(),2), round(df_base_unificada_tratada['Média'].loc[df_base_unificada_tratada['Disciplina']==\"Matemática\"].std(),2), round(df_base_unificada_tratada['Média'].loc[df_base_unificada_tratada['Disciplina']==\"Lógica\"].std(),2)]\n",
        "\n",
        "dicionário = {\n",
        "    'Desvio Padrão': desvio_padrao_geral\n",
        "}\n",
        "df = pd.DataFrame(dicionário)\n",
        "df_dp_geral = df.T\n",
        "df_dp_geral = df_dp_geral.rename(columns={0 : 'Programação', 1 : 'Matemática ', 2 : 'Lógica'})\n",
        "\n",
        "\n",
        "\n",
        "df_dp_geral"
      ],
      "metadata": {
        "colab": {
          "base_uri": "https://localhost:8080/",
          "height": 81
        },
        "id": "wXrEBljPazuw",
        "outputId": "8f9937a4-f8b6-45c2-8a80-89b35b0dd4d2"
      },
      "execution_count": 15,
      "outputs": [
        {
          "output_type": "execute_result",
          "data": {
            "text/plain": [
              "               Programação  Matemática   Lógica\n",
              "Desvio Padrão          2.7         2.54    2.04"
            ],
            "text/html": [
              "\n",
              "  <div id=\"df-4374c8db-171c-4120-9a95-a10ddf126360\">\n",
              "    <div class=\"colab-df-container\">\n",
              "      <div>\n",
              "<style scoped>\n",
              "    .dataframe tbody tr th:only-of-type {\n",
              "        vertical-align: middle;\n",
              "    }\n",
              "\n",
              "    .dataframe tbody tr th {\n",
              "        vertical-align: top;\n",
              "    }\n",
              "\n",
              "    .dataframe thead th {\n",
              "        text-align: right;\n",
              "    }\n",
              "</style>\n",
              "<table border=\"1\" class=\"dataframe\">\n",
              "  <thead>\n",
              "    <tr style=\"text-align: right;\">\n",
              "      <th></th>\n",
              "      <th>Programação</th>\n",
              "      <th>Matemática</th>\n",
              "      <th>Lógica</th>\n",
              "    </tr>\n",
              "  </thead>\n",
              "  <tbody>\n",
              "    <tr>\n",
              "      <th>Desvio Padrão</th>\n",
              "      <td>2.7</td>\n",
              "      <td>2.54</td>\n",
              "      <td>2.04</td>\n",
              "    </tr>\n",
              "  </tbody>\n",
              "</table>\n",
              "</div>\n",
              "      <button class=\"colab-df-convert\" onclick=\"convertToInteractive('df-4374c8db-171c-4120-9a95-a10ddf126360')\"\n",
              "              title=\"Convert this dataframe to an interactive table.\"\n",
              "              style=\"display:none;\">\n",
              "        \n",
              "  <svg xmlns=\"http://www.w3.org/2000/svg\" height=\"24px\"viewBox=\"0 0 24 24\"\n",
              "       width=\"24px\">\n",
              "    <path d=\"M0 0h24v24H0V0z\" fill=\"none\"/>\n",
              "    <path d=\"M18.56 5.44l.94 2.06.94-2.06 2.06-.94-2.06-.94-.94-2.06-.94 2.06-2.06.94zm-11 1L8.5 8.5l.94-2.06 2.06-.94-2.06-.94L8.5 2.5l-.94 2.06-2.06.94zm10 10l.94 2.06.94-2.06 2.06-.94-2.06-.94-.94-2.06-.94 2.06-2.06.94z\"/><path d=\"M17.41 7.96l-1.37-1.37c-.4-.4-.92-.59-1.43-.59-.52 0-1.04.2-1.43.59L10.3 9.45l-7.72 7.72c-.78.78-.78 2.05 0 2.83L4 21.41c.39.39.9.59 1.41.59.51 0 1.02-.2 1.41-.59l7.78-7.78 2.81-2.81c.8-.78.8-2.07 0-2.86zM5.41 20L4 18.59l7.72-7.72 1.47 1.35L5.41 20z\"/>\n",
              "  </svg>\n",
              "      </button>\n",
              "      \n",
              "  <style>\n",
              "    .colab-df-container {\n",
              "      display:flex;\n",
              "      flex-wrap:wrap;\n",
              "      gap: 12px;\n",
              "    }\n",
              "\n",
              "    .colab-df-convert {\n",
              "      background-color: #E8F0FE;\n",
              "      border: none;\n",
              "      border-radius: 50%;\n",
              "      cursor: pointer;\n",
              "      display: none;\n",
              "      fill: #1967D2;\n",
              "      height: 32px;\n",
              "      padding: 0 0 0 0;\n",
              "      width: 32px;\n",
              "    }\n",
              "\n",
              "    .colab-df-convert:hover {\n",
              "      background-color: #E2EBFA;\n",
              "      box-shadow: 0px 1px 2px rgba(60, 64, 67, 0.3), 0px 1px 3px 1px rgba(60, 64, 67, 0.15);\n",
              "      fill: #174EA6;\n",
              "    }\n",
              "\n",
              "    [theme=dark] .colab-df-convert {\n",
              "      background-color: #3B4455;\n",
              "      fill: #D2E3FC;\n",
              "    }\n",
              "\n",
              "    [theme=dark] .colab-df-convert:hover {\n",
              "      background-color: #434B5C;\n",
              "      box-shadow: 0px 1px 3px 1px rgba(0, 0, 0, 0.15);\n",
              "      filter: drop-shadow(0px 1px 2px rgba(0, 0, 0, 0.3));\n",
              "      fill: #FFFFFF;\n",
              "    }\n",
              "  </style>\n",
              "\n",
              "      <script>\n",
              "        const buttonEl =\n",
              "          document.querySelector('#df-4374c8db-171c-4120-9a95-a10ddf126360 button.colab-df-convert');\n",
              "        buttonEl.style.display =\n",
              "          google.colab.kernel.accessAllowed ? 'block' : 'none';\n",
              "\n",
              "        async function convertToInteractive(key) {\n",
              "          const element = document.querySelector('#df-4374c8db-171c-4120-9a95-a10ddf126360');\n",
              "          const dataTable =\n",
              "            await google.colab.kernel.invokeFunction('convertToInteractive',\n",
              "                                                     [key], {});\n",
              "          if (!dataTable) return;\n",
              "\n",
              "          const docLinkHtml = 'Like what you see? Visit the ' +\n",
              "            '<a target=\"_blank\" href=https://colab.research.google.com/notebooks/data_table.ipynb>data table notebook</a>'\n",
              "            + ' to learn more about interactive tables.';\n",
              "          element.innerHTML = '';\n",
              "          dataTable['output_type'] = 'display_data';\n",
              "          await google.colab.output.renderOutput(dataTable, element);\n",
              "          const docLink = document.createElement('div');\n",
              "          docLink.innerHTML = docLinkHtml;\n",
              "          element.appendChild(docLink);\n",
              "        }\n",
              "      </script>\n",
              "    </div>\n",
              "  </div>\n",
              "  "
            ]
          },
          "metadata": {},
          "execution_count": 15
        }
      ]
    },
    {
      "cell_type": "code",
      "source": [
        "df_media_std_geral= pd.merge(df1_geral, df_dp_geral, how = 'outer')\n",
        "df_media_std_geral = df_media_std_geral.rename(index={0 : \"Média (Geral)\", 1 : \"Desvio Padrão (Geral)\"})\n",
        "df_media_std_geral"
      ],
      "metadata": {
        "colab": {
          "base_uri": "https://localhost:8080/",
          "height": 112
        },
        "id": "dzfgccg-zCCh",
        "outputId": "a9aba101-74b9-43c6-da4b-058a8bb68ef1"
      },
      "execution_count": 16,
      "outputs": [
        {
          "output_type": "execute_result",
          "data": {
            "text/plain": [
              "                       Programação  Matemática   Lógica\n",
              "Média (Geral)                 6.47         6.63    7.39\n",
              "Desvio Padrão (Geral)         2.70         2.54    2.04"
            ],
            "text/html": [
              "\n",
              "  <div id=\"df-4475349b-51a8-4f69-b0b8-e1c0afe99bf8\">\n",
              "    <div class=\"colab-df-container\">\n",
              "      <div>\n",
              "<style scoped>\n",
              "    .dataframe tbody tr th:only-of-type {\n",
              "        vertical-align: middle;\n",
              "    }\n",
              "\n",
              "    .dataframe tbody tr th {\n",
              "        vertical-align: top;\n",
              "    }\n",
              "\n",
              "    .dataframe thead th {\n",
              "        text-align: right;\n",
              "    }\n",
              "</style>\n",
              "<table border=\"1\" class=\"dataframe\">\n",
              "  <thead>\n",
              "    <tr style=\"text-align: right;\">\n",
              "      <th></th>\n",
              "      <th>Programação</th>\n",
              "      <th>Matemática</th>\n",
              "      <th>Lógica</th>\n",
              "    </tr>\n",
              "  </thead>\n",
              "  <tbody>\n",
              "    <tr>\n",
              "      <th>Média (Geral)</th>\n",
              "      <td>6.47</td>\n",
              "      <td>6.63</td>\n",
              "      <td>7.39</td>\n",
              "    </tr>\n",
              "    <tr>\n",
              "      <th>Desvio Padrão (Geral)</th>\n",
              "      <td>2.70</td>\n",
              "      <td>2.54</td>\n",
              "      <td>2.04</td>\n",
              "    </tr>\n",
              "  </tbody>\n",
              "</table>\n",
              "</div>\n",
              "      <button class=\"colab-df-convert\" onclick=\"convertToInteractive('df-4475349b-51a8-4f69-b0b8-e1c0afe99bf8')\"\n",
              "              title=\"Convert this dataframe to an interactive table.\"\n",
              "              style=\"display:none;\">\n",
              "        \n",
              "  <svg xmlns=\"http://www.w3.org/2000/svg\" height=\"24px\"viewBox=\"0 0 24 24\"\n",
              "       width=\"24px\">\n",
              "    <path d=\"M0 0h24v24H0V0z\" fill=\"none\"/>\n",
              "    <path d=\"M18.56 5.44l.94 2.06.94-2.06 2.06-.94-2.06-.94-.94-2.06-.94 2.06-2.06.94zm-11 1L8.5 8.5l.94-2.06 2.06-.94-2.06-.94L8.5 2.5l-.94 2.06-2.06.94zm10 10l.94 2.06.94-2.06 2.06-.94-2.06-.94-.94-2.06-.94 2.06-2.06.94z\"/><path d=\"M17.41 7.96l-1.37-1.37c-.4-.4-.92-.59-1.43-.59-.52 0-1.04.2-1.43.59L10.3 9.45l-7.72 7.72c-.78.78-.78 2.05 0 2.83L4 21.41c.39.39.9.59 1.41.59.51 0 1.02-.2 1.41-.59l7.78-7.78 2.81-2.81c.8-.78.8-2.07 0-2.86zM5.41 20L4 18.59l7.72-7.72 1.47 1.35L5.41 20z\"/>\n",
              "  </svg>\n",
              "      </button>\n",
              "      \n",
              "  <style>\n",
              "    .colab-df-container {\n",
              "      display:flex;\n",
              "      flex-wrap:wrap;\n",
              "      gap: 12px;\n",
              "    }\n",
              "\n",
              "    .colab-df-convert {\n",
              "      background-color: #E8F0FE;\n",
              "      border: none;\n",
              "      border-radius: 50%;\n",
              "      cursor: pointer;\n",
              "      display: none;\n",
              "      fill: #1967D2;\n",
              "      height: 32px;\n",
              "      padding: 0 0 0 0;\n",
              "      width: 32px;\n",
              "    }\n",
              "\n",
              "    .colab-df-convert:hover {\n",
              "      background-color: #E2EBFA;\n",
              "      box-shadow: 0px 1px 2px rgba(60, 64, 67, 0.3), 0px 1px 3px 1px rgba(60, 64, 67, 0.15);\n",
              "      fill: #174EA6;\n",
              "    }\n",
              "\n",
              "    [theme=dark] .colab-df-convert {\n",
              "      background-color: #3B4455;\n",
              "      fill: #D2E3FC;\n",
              "    }\n",
              "\n",
              "    [theme=dark] .colab-df-convert:hover {\n",
              "      background-color: #434B5C;\n",
              "      box-shadow: 0px 1px 3px 1px rgba(0, 0, 0, 0.15);\n",
              "      filter: drop-shadow(0px 1px 2px rgba(0, 0, 0, 0.3));\n",
              "      fill: #FFFFFF;\n",
              "    }\n",
              "  </style>\n",
              "\n",
              "      <script>\n",
              "        const buttonEl =\n",
              "          document.querySelector('#df-4475349b-51a8-4f69-b0b8-e1c0afe99bf8 button.colab-df-convert');\n",
              "        buttonEl.style.display =\n",
              "          google.colab.kernel.accessAllowed ? 'block' : 'none';\n",
              "\n",
              "        async function convertToInteractive(key) {\n",
              "          const element = document.querySelector('#df-4475349b-51a8-4f69-b0b8-e1c0afe99bf8');\n",
              "          const dataTable =\n",
              "            await google.colab.kernel.invokeFunction('convertToInteractive',\n",
              "                                                     [key], {});\n",
              "          if (!dataTable) return;\n",
              "\n",
              "          const docLinkHtml = 'Like what you see? Visit the ' +\n",
              "            '<a target=\"_blank\" href=https://colab.research.google.com/notebooks/data_table.ipynb>data table notebook</a>'\n",
              "            + ' to learn more about interactive tables.';\n",
              "          element.innerHTML = '';\n",
              "          dataTable['output_type'] = 'display_data';\n",
              "          await google.colab.output.renderOutput(dataTable, element);\n",
              "          const docLink = document.createElement('div');\n",
              "          docLink.innerHTML = docLinkHtml;\n",
              "          element.appendChild(docLink);\n",
              "        }\n",
              "      </script>\n",
              "    </div>\n",
              "  </div>\n",
              "  "
            ]
          },
          "metadata": {},
          "execution_count": 16
        }
      ]
    },
    {
      "cell_type": "code",
      "source": [
        "# Box plot médias gerais disciplinas\n",
        "ax = sns.boxplot( x = \"Disciplina\", y = \"Média\",data = df_base_unificada_tratada, palette = \"Set3\")"
      ],
      "metadata": {
        "colab": {
          "base_uri": "https://localhost:8080/",
          "height": 280
        },
        "id": "3fZxNQDlbNb1",
        "outputId": "ed2de5f1-4af3-4377-ff08-d71fd0be2a25"
      },
      "execution_count": 17,
      "outputs": [
        {
          "output_type": "display_data",
          "data": {
            "text/plain": [
              "<Figure size 432x288 with 1 Axes>"
            ],
            "image/png": "[encoded data removed]"
          },
          "metadata": {
            "needs_background": "light"
          }
        }
      ]
    },
    {
      "cell_type": "markdown",
      "source": [
        "<h1><b> Média dos reprovados por disciplina"
      ],
      "metadata": {
        "id": "J18WdkP8bV5X"
      }
    },
    {
      "cell_type": "code",
      "source": [
        "# Calculando as médias dos reprovados nas disciplinas por Ano (2018-2022)\n",
        "\n",
        "média_rep_prog = []\n",
        "for x in range (2018, 2023):\n",
        "  media = df_base_unificada_tratada.query('Disciplina == \"Programação\" & Situação == \"Rep Nota\"')['Média'].loc[df_base_unificada_tratada['Ano']==x] .mean()\n",
        "  média_rep_prog.append(media)\n",
        "\n",
        "média_rep_matematica = []\n",
        "for x in range (2018, 2023):\n",
        "  media = df_base_unificada_tratada.query('Disciplina == \"Matemática\" & Situação == \"Rep Nota\"')['Média'].loc[df_base_unificada_tratada['Ano']==x] .mean()\n",
        "  média_rep_matematica.append(media)\n",
        "\n",
        "média_rep_log = []\n",
        "for x in range (2018, 2023):\n",
        "  media = df_base_unificada_tratada.query('Disciplina == \"Lógica\" & Situação == \"Rep Nota\"')['Média'].loc[df_base_unificada_tratada['Ano']==x] .mean()\n",
        "  média_rep_log.append(media)"
      ],
      "metadata": {
        "id": "gu8e02Ciuwrt"
      },
      "execution_count": 18,
      "outputs": []
    },
    {
      "cell_type": "code",
      "source": [
        "# Cálculo da média geral dos reprovados por disciplina (2019-2022)\n",
        "\n",
        "media_reprovados = [round(df_base_unificada_tratada.query('Disciplina == \"Programação\" & Situação == \"Rep Nota\" & Ano != 2018')['Média'].loc[df_base_unificada_tratada['Disciplina']==\"Programação\"].mean(),2), round(df_base_unificada_tratada.query('Disciplina == \"Matemática\" & Situação == \"Rep Nota\" & Ano != 2018')['Média'].loc[df_base_unificada_tratada['Disciplina']==\"Matemática\"].mean(),2), round(df_base_unificada_tratada.query('Disciplina == \"Lógica\" & Situação == \"Rep Nota\" & Ano != 2018')['Média'].loc[df_base_unificada_tratada['Disciplina']==\"Lógica\"].mean(),2)]\n",
        "\n",
        "dicionário = {\n",
        "    'Média Geral (Reprovados) ': media_reprovados\n",
        "}\n",
        "df_reprov= pd.DataFrame(dicionário)\n",
        "df_Media_Reprovado = df_reprov.T\n",
        "df_Media_Reprovado = df_Media_Reprovado.rename(columns={0 : 'Programação', 1 : 'Matemática ', 2 : 'Lógica'})\n",
        "\n",
        "\n",
        "\n",
        "df_Media_Reprovado"
      ],
      "metadata": {
        "colab": {
          "base_uri": "https://localhost:8080/",
          "height": 81
        },
        "id": "LdCgZ74c2_Ib",
        "outputId": "bdca45c9-7dbe-4759-c664-b0e0f2460cca"
      },
      "execution_count": 19,
      "outputs": [
        {
          "output_type": "execute_result",
          "data": {
            "text/plain": [
              "                           Programação  Matemática   Lógica\n",
              "Média Geral (Reprovados)          2.35         2.25    1.84"
            ],
            "text/html": [
              "\n",
              "  <div id=\"df-2dc150e4-c077-47de-98ac-cff0cb67ec0a\">\n",
              "    <div class=\"colab-df-container\">\n",
              "      <div>\n",
              "<style scoped>\n",
              "    .dataframe tbody tr th:only-of-type {\n",
              "        vertical-align: middle;\n",
              "    }\n",
              "\n",
              "    .dataframe tbody tr th {\n",
              "        vertical-align: top;\n",
              "    }\n",
              "\n",
              "    .dataframe thead th {\n",
              "        text-align: right;\n",
              "    }\n",
              "</style>\n",
              "<table border=\"1\" class=\"dataframe\">\n",
              "  <thead>\n",
              "    <tr style=\"text-align: right;\">\n",
              "      <th></th>\n",
              "      <th>Programação</th>\n",
              "      <th>Matemática</th>\n",
              "      <th>Lógica</th>\n",
              "    </tr>\n",
              "  </thead>\n",
              "  <tbody>\n",
              "    <tr>\n",
              "      <th>Média Geral (Reprovados)</th>\n",
              "      <td>2.35</td>\n",
              "      <td>2.25</td>\n",
              "      <td>1.84</td>\n",
              "    </tr>\n",
              "  </tbody>\n",
              "</table>\n",
              "</div>\n",
              "      <button class=\"colab-df-convert\" onclick=\"convertToInteractive('df-2dc150e4-c077-47de-98ac-cff0cb67ec0a')\"\n",
              "              title=\"Convert this dataframe to an interactive table.\"\n",
              "              style=\"display:none;\">\n",
              "        \n",
              "  <svg xmlns=\"http://www.w3.org/2000/svg\" height=\"24px\"viewBox=\"0 0 24 24\"\n",
              "       width=\"24px\">\n",
              "    <path d=\"M0 0h24v24H0V0z\" fill=\"none\"/>\n",
              "    <path d=\"M18.56 5.44l.94 2.06.94-2.06 2.06-.94-2.06-.94-.94-2.06-.94 2.06-2.06.94zm-11 1L8.5 8.5l.94-2.06 2.06-.94-2.06-.94L8.5 2.5l-.94 2.06-2.06.94zm10 10l.94 2.06.94-2.06 2.06-.94-2.06-.94-.94-2.06-.94 2.06-2.06.94z\"/><path d=\"M17.41 7.96l-1.37-1.37c-.4-.4-.92-.59-1.43-.59-.52 0-1.04.2-1.43.59L10.3 9.45l-7.72 7.72c-.78.78-.78 2.05 0 2.83L4 21.41c.39.39.9.59 1.41.59.51 0 1.02-.2 1.41-.59l7.78-7.78 2.81-2.81c.8-.78.8-2.07 0-2.86zM5.41 20L4 18.59l7.72-7.72 1.47 1.35L5.41 20z\"/>\n",
              "  </svg>\n",
              "      </button>\n",
              "      \n",
              "  <style>\n",
              "    .colab-df-container {\n",
              "      display:flex;\n",
              "      flex-wrap:wrap;\n",
              "      gap: 12px;\n",
              "    }\n",
              "\n",
              "    .colab-df-convert {\n",
              "      background-color: #E8F0FE;\n",
              "      border: none;\n",
              "      border-radius: 50%;\n",
              "      cursor: pointer;\n",
              "      display: none;\n",
              "      fill: #1967D2;\n",
              "      height: 32px;\n",
              "      padding: 0 0 0 0;\n",
              "      width: 32px;\n",
              "    }\n",
              "\n",
              "    .colab-df-convert:hover {\n",
              "      background-color: #E2EBFA;\n",
              "      box-shadow: 0px 1px 2px rgba(60, 64, 67, 0.3), 0px 1px 3px 1px rgba(60, 64, 67, 0.15);\n",
              "      fill: #174EA6;\n",
              "    }\n",
              "\n",
              "    [theme=dark] .colab-df-convert {\n",
              "      background-color: #3B4455;\n",
              "      fill: #D2E3FC;\n",
              "    }\n",
              "\n",
              "    [theme=dark] .colab-df-convert:hover {\n",
              "      background-color: #434B5C;\n",
              "      box-shadow: 0px 1px 3px 1px rgba(0, 0, 0, 0.15);\n",
              "      filter: drop-shadow(0px 1px 2px rgba(0, 0, 0, 0.3));\n",
              "      fill: #FFFFFF;\n",
              "    }\n",
              "  </style>\n",
              "\n",
              "      <script>\n",
              "        const buttonEl =\n",
              "          document.querySelector('#df-2dc150e4-c077-47de-98ac-cff0cb67ec0a button.colab-df-convert');\n",
              "        buttonEl.style.display =\n",
              "          google.colab.kernel.accessAllowed ? 'block' : 'none';\n",
              "\n",
              "        async function convertToInteractive(key) {\n",
              "          const element = document.querySelector('#df-2dc150e4-c077-47de-98ac-cff0cb67ec0a');\n",
              "          const dataTable =\n",
              "            await google.colab.kernel.invokeFunction('convertToInteractive',\n",
              "                                                     [key], {});\n",
              "          if (!dataTable) return;\n",
              "\n",
              "          const docLinkHtml = 'Like what you see? Visit the ' +\n",
              "            '<a target=\"_blank\" href=https://colab.research.google.com/notebooks/data_table.ipynb>data table notebook</a>'\n",
              "            + ' to learn more about interactive tables.';\n",
              "          element.innerHTML = '';\n",
              "          dataTable['output_type'] = 'display_data';\n",
              "          await google.colab.output.renderOutput(dataTable, element);\n",
              "          const docLink = document.createElement('div');\n",
              "          docLink.innerHTML = docLinkHtml;\n",
              "          element.appendChild(docLink);\n",
              "        }\n",
              "      </script>\n",
              "    </div>\n",
              "  </div>\n",
              "  "
            ]
          },
          "metadata": {},
          "execution_count": 19
        }
      ]
    },
    {
      "cell_type": "code",
      "source": [
        "dp_reprovado = [round(df_base_unificada_tratada.query('Disciplina == \"Programação\" & Situação == \"Rep Nota\" & Ano != 2018')['Média'].loc[df_base_unificada_tratada['Disciplina']==\"Programação\"].std(),2), round(df_base_unificada_tratada.query('Disciplina == \"Matemática\" & Situação == \"Rep Nota\" & Ano != 2018')['Média'].loc[df_base_unificada_tratada['Disciplina']==\"Matemática\"].std(),2), round(df_base_unificada_tratada.query('Disciplina == \"Lógica\" & Situação == \"Rep Nota\" & Ano != 2018')['Média'].loc[df_base_unificada_tratada['Disciplina']==\"Lógica\"].std(),2)]\n",
        "\n",
        "dicionário = {\n",
        "    'Desvio Padrão (Reprovados)': dp_reprovado\n",
        "}\n",
        "df = pd.DataFrame(dicionário)\n",
        "df_dp_reprovado = df.T\n",
        "df_dp_reprovado = df_dp_reprovado.rename(columns={0 : 'Programação', 1 : 'Matemática ', 2 : 'Lógica'})\n",
        "\n",
        "\n",
        "\n",
        "df_dp_reprovado"
      ],
      "metadata": {
        "colab": {
          "base_uri": "https://localhost:8080/",
          "height": 81
        },
        "id": "IvO77LxrrwKd",
        "outputId": "8a3ec012-af3c-4bc7-db4b-4b2e53f656e0"
      },
      "execution_count": 20,
      "outputs": [
        {
          "output_type": "execute_result",
          "data": {
            "text/plain": [
              "                            Programação  Matemática   Lógica\n",
              "Desvio Padrão (Reprovados)         1.29         1.19    0.94"
            ],
            "text/html": [
              "\n",
              "  <div id=\"df-0c162212-0c59-483d-bc1d-7d0d7bafb8d8\">\n",
              "    <div class=\"colab-df-container\">\n",
              "      <div>\n",
              "<style scoped>\n",
              "    .dataframe tbody tr th:only-of-type {\n",
              "        vertical-align: middle;\n",
              "    }\n",
              "\n",
              "    .dataframe tbody tr th {\n",
              "        vertical-align: top;\n",
              "    }\n",
              "\n",
              "    .dataframe thead th {\n",
              "        text-align: right;\n",
              "    }\n",
              "</style>\n",
              "<table border=\"1\" class=\"dataframe\">\n",
              "  <thead>\n",
              "    <tr style=\"text-align: right;\">\n",
              "      <th></th>\n",
              "      <th>Programação</th>\n",
              "      <th>Matemática</th>\n",
              "      <th>Lógica</th>\n",
              "    </tr>\n",
              "  </thead>\n",
              "  <tbody>\n",
              "    <tr>\n",
              "      <th>Desvio Padrão (Reprovados)</th>\n",
              "      <td>1.29</td>\n",
              "      <td>1.19</td>\n",
              "      <td>0.94</td>\n",
              "    </tr>\n",
              "  </tbody>\n",
              "</table>\n",
              "</div>\n",
              "      <button class=\"colab-df-convert\" onclick=\"convertToInteractive('df-0c162212-0c59-483d-bc1d-7d0d7bafb8d8')\"\n",
              "              title=\"Convert this dataframe to an interactive table.\"\n",
              "              style=\"display:none;\">\n",
              "        \n",
              "  <svg xmlns=\"http://www.w3.org/2000/svg\" height=\"24px\"viewBox=\"0 0 24 24\"\n",
              "       width=\"24px\">\n",
              "    <path d=\"M0 0h24v24H0V0z\" fill=\"none\"/>\n",
              "    <path d=\"M18.56 5.44l.94 2.06.94-2.06 2.06-.94-2.06-.94-.94-2.06-.94 2.06-2.06.94zm-11 1L8.5 8.5l.94-2.06 2.06-.94-2.06-.94L8.5 2.5l-.94 2.06-2.06.94zm10 10l.94 2.06.94-2.06 2.06-.94-2.06-.94-.94-2.06-.94 2.06-2.06.94z\"/><path d=\"M17.41 7.96l-1.37-1.37c-.4-.4-.92-.59-1.43-.59-.52 0-1.04.2-1.43.59L10.3 9.45l-7.72 7.72c-.78.78-.78 2.05 0 2.83L4 21.41c.39.39.9.59 1.41.59.51 0 1.02-.2 1.41-.59l7.78-7.78 2.81-2.81c.8-.78.8-2.07 0-2.86zM5.41 20L4 18.59l7.72-7.72 1.47 1.35L5.41 20z\"/>\n",
              "  </svg>\n",
              "      </button>\n",
              "      \n",
              "  <style>\n",
              "    .colab-df-container {\n",
              "      display:flex;\n",
              "      flex-wrap:wrap;\n",
              "      gap: 12px;\n",
              "    }\n",
              "\n",
              "    .colab-df-convert {\n",
              "      background-color: #E8F0FE;\n",
              "      border: none;\n",
              "      border-radius: 50%;\n",
              "      cursor: pointer;\n",
              "      display: none;\n",
              "      fill: #1967D2;\n",
              "      height: 32px;\n",
              "      padding: 0 0 0 0;\n",
              "      width: 32px;\n",
              "    }\n",
              "\n",
              "    .colab-df-convert:hover {\n",
              "      background-color: #E2EBFA;\n",
              "      box-shadow: 0px 1px 2px rgba(60, 64, 67, 0.3), 0px 1px 3px 1px rgba(60, 64, 67, 0.15);\n",
              "      fill: #174EA6;\n",
              "    }\n",
              "\n",
              "    [theme=dark] .colab-df-convert {\n",
              "      background-color: #3B4455;\n",
              "      fill: #D2E3FC;\n",
              "    }\n",
              "\n",
              "    [theme=dark] .colab-df-convert:hover {\n",
              "      background-color: #434B5C;\n",
              "      box-shadow: 0px 1px 3px 1px rgba(0, 0, 0, 0.15);\n",
              "      filter: drop-shadow(0px 1px 2px rgba(0, 0, 0, 0.3));\n",
              "      fill: #FFFFFF;\n",
              "    }\n",
              "  </style>\n",
              "\n",
              "      <script>\n",
              "        const buttonEl =\n",
              "          document.querySelector('#df-0c162212-0c59-483d-bc1d-7d0d7bafb8d8 button.colab-df-convert');\n",
              "        buttonEl.style.display =\n",
              "          google.colab.kernel.accessAllowed ? 'block' : 'none';\n",
              "\n",
              "        async function convertToInteractive(key) {\n",
              "          const element = document.querySelector('#df-0c162212-0c59-483d-bc1d-7d0d7bafb8d8');\n",
              "          const dataTable =\n",
              "            await google.colab.kernel.invokeFunction('convertToInteractive',\n",
              "                                                     [key], {});\n",
              "          if (!dataTable) return;\n",
              "\n",
              "          const docLinkHtml = 'Like what you see? Visit the ' +\n",
              "            '<a target=\"_blank\" href=https://colab.research.google.com/notebooks/data_table.ipynb>data table notebook</a>'\n",
              "            + ' to learn more about interactive tables.';\n",
              "          element.innerHTML = '';\n",
              "          dataTable['output_type'] = 'display_data';\n",
              "          await google.colab.output.renderOutput(dataTable, element);\n",
              "          const docLink = document.createElement('div');\n",
              "          docLink.innerHTML = docLinkHtml;\n",
              "          element.appendChild(docLink);\n",
              "        }\n",
              "      </script>\n",
              "    </div>\n",
              "  </div>\n",
              "  "
            ]
          },
          "metadata": {},
          "execution_count": 20
        }
      ]
    },
    {
      "cell_type": "code",
      "source": [
        "df_media_std_rep= pd.merge(df_Media_Reprovado, df_dp_reprovado, how = 'outer')\n",
        "df_media_std_rep = df_media_std_rep.rename(index={0 : \"Média Geral (Reprovados)\", 1 : \"Desvio Padrão (Reprovados)\"})\n",
        "df_media_std_rep"
      ],
      "metadata": {
        "colab": {
          "base_uri": "https://localhost:8080/",
          "height": 112
        },
        "id": "C_VtT2PIr0lf",
        "outputId": "86db3a59-0390-4554-adc2-574ebc723e25"
      },
      "execution_count": 21,
      "outputs": [
        {
          "output_type": "execute_result",
          "data": {
            "text/plain": [
              "                            Programação  Matemática   Lógica\n",
              "Média Geral (Reprovados)           2.35         2.25    1.84\n",
              "Desvio Padrão (Reprovados)         1.29         1.19    0.94"
            ],
            "text/html": [
              "\n",
              "  <div id=\"df-8b480d5c-0e08-4666-8340-d3390aa05e12\">\n",
              "    <div class=\"colab-df-container\">\n",
              "      <div>\n",
              "<style scoped>\n",
              "    .dataframe tbody tr th:only-of-type {\n",
              "        vertical-align: middle;\n",
              "    }\n",
              "\n",
              "    .dataframe tbody tr th {\n",
              "        vertical-align: top;\n",
              "    }\n",
              "\n",
              "    .dataframe thead th {\n",
              "        text-align: right;\n",
              "    }\n",
              "</style>\n",
              "<table border=\"1\" class=\"dataframe\">\n",
              "  <thead>\n",
              "    <tr style=\"text-align: right;\">\n",
              "      <th></th>\n",
              "      <th>Programação</th>\n",
              "      <th>Matemática</th>\n",
              "      <th>Lógica</th>\n",
              "    </tr>\n",
              "  </thead>\n",
              "  <tbody>\n",
              "    <tr>\n",
              "      <th>Média Geral (Reprovados)</th>\n",
              "      <td>2.35</td>\n",
              "      <td>2.25</td>\n",
              "      <td>1.84</td>\n",
              "    </tr>\n",
              "    <tr>\n",
              "      <th>Desvio Padrão (Reprovados)</th>\n",
              "      <td>1.29</td>\n",
              "      <td>1.19</td>\n",
              "      <td>0.94</td>\n",
              "    </tr>\n",
              "  </tbody>\n",
              "</table>\n",
              "</div>\n",
              "      <button class=\"colab-df-convert\" onclick=\"convertToInteractive('df-8b480d5c-0e08-4666-8340-d3390aa05e12')\"\n",
              "              title=\"Convert this dataframe to an interactive table.\"\n",
              "              style=\"display:none;\">\n",
              "        \n",
              "  <svg xmlns=\"http://www.w3.org/2000/svg\" height=\"24px\"viewBox=\"0 0 24 24\"\n",
              "       width=\"24px\">\n",
              "    <path d=\"M0 0h24v24H0V0z\" fill=\"none\"/>\n",
              "    <path d=\"M18.56 5.44l.94 2.06.94-2.06 2.06-.94-2.06-.94-.94-2.06-.94 2.06-2.06.94zm-11 1L8.5 8.5l.94-2.06 2.06-.94-2.06-.94L8.5 2.5l-.94 2.06-2.06.94zm10 10l.94 2.06.94-2.06 2.06-.94-2.06-.94-.94-2.06-.94 2.06-2.06.94z\"/><path d=\"M17.41 7.96l-1.37-1.37c-.4-.4-.92-.59-1.43-.59-.52 0-1.04.2-1.43.59L10.3 9.45l-7.72 7.72c-.78.78-.78 2.05 0 2.83L4 21.41c.39.39.9.59 1.41.59.51 0 1.02-.2 1.41-.59l7.78-7.78 2.81-2.81c.8-.78.8-2.07 0-2.86zM5.41 20L4 18.59l7.72-7.72 1.47 1.35L5.41 20z\"/>\n",
              "  </svg>\n",
              "      </button>\n",
              "      \n",
              "  <style>\n",
              "    .colab-df-container {\n",
              "      display:flex;\n",
              "      flex-wrap:wrap;\n",
              "      gap: 12px;\n",
              "    }\n",
              "\n",
              "    .colab-df-convert {\n",
              "      background-color: #E8F0FE;\n",
              "      border: none;\n",
              "      border-radius: 50%;\n",
              "      cursor: pointer;\n",
              "      display: none;\n",
              "      fill: #1967D2;\n",
              "      height: 32px;\n",
              "      padding: 0 0 0 0;\n",
              "      width: 32px;\n",
              "    }\n",
              "\n",
              "    .colab-df-convert:hover {\n",
              "      background-color: #E2EBFA;\n",
              "      box-shadow: 0px 1px 2px rgba(60, 64, 67, 0.3), 0px 1px 3px 1px rgba(60, 64, 67, 0.15);\n",
              "      fill: #174EA6;\n",
              "    }\n",
              "\n",
              "    [theme=dark] .colab-df-convert {\n",
              "      background-color: #3B4455;\n",
              "      fill: #D2E3FC;\n",
              "    }\n",
              "\n",
              "    [theme=dark] .colab-df-convert:hover {\n",
              "      background-color: #434B5C;\n",
              "      box-shadow: 0px 1px 3px 1px rgba(0, 0, 0, 0.15);\n",
              "      filter: drop-shadow(0px 1px 2px rgba(0, 0, 0, 0.3));\n",
              "      fill: #FFFFFF;\n",
              "    }\n",
              "  </style>\n",
              "\n",
              "      <script>\n",
              "        const buttonEl =\n",
              "          document.querySelector('#df-8b480d5c-0e08-4666-8340-d3390aa05e12 button.colab-df-convert');\n",
              "        buttonEl.style.display =\n",
              "          google.colab.kernel.accessAllowed ? 'block' : 'none';\n",
              "\n",
              "        async function convertToInteractive(key) {\n",
              "          const element = document.querySelector('#df-8b480d5c-0e08-4666-8340-d3390aa05e12');\n",
              "          const dataTable =\n",
              "            await google.colab.kernel.invokeFunction('convertToInteractive',\n",
              "                                                     [key], {});\n",
              "          if (!dataTable) return;\n",
              "\n",
              "          const docLinkHtml = 'Like what you see? Visit the ' +\n",
              "            '<a target=\"_blank\" href=https://colab.research.google.com/notebooks/data_table.ipynb>data table notebook</a>'\n",
              "            + ' to learn more about interactive tables.';\n",
              "          element.innerHTML = '';\n",
              "          dataTable['output_type'] = 'display_data';\n",
              "          await google.colab.output.renderOutput(dataTable, element);\n",
              "          const docLink = document.createElement('div');\n",
              "          docLink.innerHTML = docLinkHtml;\n",
              "          element.appendChild(docLink);\n",
              "        }\n",
              "      </script>\n",
              "    </div>\n",
              "  </div>\n",
              "  "
            ]
          },
          "metadata": {},
          "execution_count": 21
        }
      ]
    },
    {
      "cell_type": "markdown",
      "source": [
        "<h1><b>Média dos aprovados por disciplinas"
      ],
      "metadata": {
        "id": "MwBcCvuzbjdZ"
      }
    },
    {
      "cell_type": "code",
      "source": [
        "# Média dos alunos aprovados nas disciplinas segmentado por ano\n",
        "\n",
        "média_aprov_prog = []\n",
        "for x in range (2018, 2023):\n",
        "  media = df_base_unificada_tratada.query('Disciplina == \"Programação\" & Situação == \"Aprovado\"')['Média'].loc[df_base_unificada_tratada['Ano']==x] .mean()\n",
        "  média_aprov_prog.append(media)\n",
        "\n",
        "média_aprov_matematica = []\n",
        "for x in range (2018, 2023):\n",
        "  media = df_base_unificada_tratada.query('Disciplina == \"Matemática\" & Situação == \"Aprovado\"')['Média'].loc[df_base_unificada_tratada['Ano']==x] .mean()\n",
        "  média_aprov_matematica.append(media)\n",
        "\n",
        "média_aprov_log = []\n",
        "for x in range (2018, 2023):\n",
        "  media = df_base_unificada_tratada.query('Disciplina == \"Lógica\" & Situação == \"Aprovado\"')['Média'].loc[df_base_unificada_tratada['Ano']==x] .mean()\n",
        "  média_aprov_log.append(media)\n",
        "\n",
        "\n",
        "\n"
      ],
      "metadata": {
        "id": "nAQInx4zYmFy"
      },
      "execution_count": 22,
      "outputs": []
    },
    {
      "cell_type": "code",
      "source": [
        "# Média geral dos estudantes aprovados por disciplina \n",
        "\n",
        "media_aprovados = [round(df_base_unificada_tratada.query('Disciplina == \"Programação\" & Situação == \"Aprovado\" & Ano != 2018')['Média'].loc[df_base_unificada_tratada['Disciplina']==\"Programação\"].mean(),2), round(df_base_unificada_tratada.query('Disciplina == \"Matemática\" & Situação == \"Aprovado\" & Ano != 2018')['Média'].loc[df_base_unificada_tratada['Disciplina']==\"Matemática\"].mean(),2), round(df_base_unificada_tratada.query('Disciplina == \"Lógica\" & Situação == \"Aprovado\" & Ano != 2018')['Média'].loc[df_base_unificada_tratada['Disciplina']==\"Lógica\"].mean(),2)]\n",
        "\n",
        "desvio_padrao_prog_aprov = df_base_unificada_tratada.query('Disciplina == \"Programação\" & Situação == \"Aprovado\" & Ano != 2018')['Média'].loc[df_base_unificada_tratada['Disciplina']==\"Programação\"].std()\n",
        "desvio_padrao_mat_aprov =df_base_unificada_tratada.query('Disciplina == \"Matemática\" & Situação == \"Aprovado\" & Ano != 2018')['Média'].loc[df_base_unificada_tratada['Disciplina']==\"Matemática\"].std()\n",
        "desvio_padrao_log_aprov = df_base_unificada_tratada.query('Disciplina == \"Lógica\" & Situação == \"Aprovado\" & Ano != 2018')['Média'].loc[df_base_unificada_tratada['Disciplina']==\"Lógica\"].std()\n",
        "\n",
        "\n",
        "dicionário = {\n",
        "    'Média Geral (Aprovados)': media_aprovados\n",
        "}\n",
        "df = pd.DataFrame(dicionário)\n",
        "df_media_aprov = df.T\n",
        "df_media_aprov = df_media_aprov.rename(columns={0 : 'Programação', 1 : 'Matemática ', 2 : 'Lógica'})\n",
        "\n",
        "\n",
        "\n",
        "df_media_aprov"
      ],
      "metadata": {
        "colab": {
          "base_uri": "https://localhost:8080/",
          "height": 81
        },
        "id": "S8XaX2sI27jA",
        "outputId": "9633d541-64a3-4f43-e8cf-09199cea196a"
      },
      "execution_count": 23,
      "outputs": [
        {
          "output_type": "execute_result",
          "data": {
            "text/plain": [
              "                         Programação  Matemática   Lógica\n",
              "Média Geral (Aprovados)         7.93         7.79    7.97"
            ],
            "text/html": [
              "\n",
              "  <div id=\"df-9bf617f2-7e5a-43f6-b8a6-348d39c3eecc\">\n",
              "    <div class=\"colab-df-container\">\n",
              "      <div>\n",
              "<style scoped>\n",
              "    .dataframe tbody tr th:only-of-type {\n",
              "        vertical-align: middle;\n",
              "    }\n",
              "\n",
              "    .dataframe tbody tr th {\n",
              "        vertical-align: top;\n",
              "    }\n",
              "\n",
              "    .dataframe thead th {\n",
              "        text-align: right;\n",
              "    }\n",
              "</style>\n",
              "<table border=\"1\" class=\"dataframe\">\n",
              "  <thead>\n",
              "    <tr style=\"text-align: right;\">\n",
              "      <th></th>\n",
              "      <th>Programação</th>\n",
              "      <th>Matemática</th>\n",
              "      <th>Lógica</th>\n",
              "    </tr>\n",
              "  </thead>\n",
              "  <tbody>\n",
              "    <tr>\n",
              "      <th>Média Geral (Aprovados)</th>\n",
              "      <td>7.93</td>\n",
              "      <td>7.79</td>\n",
              "      <td>7.97</td>\n",
              "    </tr>\n",
              "  </tbody>\n",
              "</table>\n",
              "</div>\n",
              "      <button class=\"colab-df-convert\" onclick=\"convertToInteractive('df-9bf617f2-7e5a-43f6-b8a6-348d39c3eecc')\"\n",
              "              title=\"Convert this dataframe to an interactive table.\"\n",
              "              style=\"display:none;\">\n",
              "        \n",
              "  <svg xmlns=\"http://www.w3.org/2000/svg\" height=\"24px\"viewBox=\"0 0 24 24\"\n",
              "       width=\"24px\">\n",
              "    <path d=\"M0 0h24v24H0V0z\" fill=\"none\"/>\n",
              "    <path d=\"M18.56 5.44l.94 2.06.94-2.06 2.06-.94-2.06-.94-.94-2.06-.94 2.06-2.06.94zm-11 1L8.5 8.5l.94-2.06 2.06-.94-2.06-.94L8.5 2.5l-.94 2.06-2.06.94zm10 10l.94 2.06.94-2.06 2.06-.94-2.06-.94-.94-2.06-.94 2.06-2.06.94z\"/><path d=\"M17.41 7.96l-1.37-1.37c-.4-.4-.92-.59-1.43-.59-.52 0-1.04.2-1.43.59L10.3 9.45l-7.72 7.72c-.78.78-.78 2.05 0 2.83L4 21.41c.39.39.9.59 1.41.59.51 0 1.02-.2 1.41-.59l7.78-7.78 2.81-2.81c.8-.78.8-2.07 0-2.86zM5.41 20L4 18.59l7.72-7.72 1.47 1.35L5.41 20z\"/>\n",
              "  </svg>\n",
              "      </button>\n",
              "      \n",
              "  <style>\n",
              "    .colab-df-container {\n",
              "      display:flex;\n",
              "      flex-wrap:wrap;\n",
              "      gap: 12px;\n",
              "    }\n",
              "\n",
              "    .colab-df-convert {\n",
              "      background-color: #E8F0FE;\n",
              "      border: none;\n",
              "      border-radius: 50%;\n",
              "      cursor: pointer;\n",
              "      display: none;\n",
              "      fill: #1967D2;\n",
              "      height: 32px;\n",
              "      padding: 0 0 0 0;\n",
              "      width: 32px;\n",
              "    }\n",
              "\n",
              "    .colab-df-convert:hover {\n",
              "      background-color: #E2EBFA;\n",
              "      box-shadow: 0px 1px 2px rgba(60, 64, 67, 0.3), 0px 1px 3px 1px rgba(60, 64, 67, 0.15);\n",
              "      fill: #174EA6;\n",
              "    }\n",
              "\n",
              "    [theme=dark] .colab-df-convert {\n",
              "      background-color: #3B4455;\n",
              "      fill: #D2E3FC;\n",
              "    }\n",
              "\n",
              "    [theme=dark] .colab-df-convert:hover {\n",
              "      background-color: #434B5C;\n",
              "      box-shadow: 0px 1px 3px 1px rgba(0, 0, 0, 0.15);\n",
              "      filter: drop-shadow(0px 1px 2px rgba(0, 0, 0, 0.3));\n",
              "      fill: #FFFFFF;\n",
              "    }\n",
              "  </style>\n",
              "\n",
              "      <script>\n",
              "        const buttonEl =\n",
              "          document.querySelector('#df-9bf617f2-7e5a-43f6-b8a6-348d39c3eecc button.colab-df-convert');\n",
              "        buttonEl.style.display =\n",
              "          google.colab.kernel.accessAllowed ? 'block' : 'none';\n",
              "\n",
              "        async function convertToInteractive(key) {\n",
              "          const element = document.querySelector('#df-9bf617f2-7e5a-43f6-b8a6-348d39c3eecc');\n",
              "          const dataTable =\n",
              "            await google.colab.kernel.invokeFunction('convertToInteractive',\n",
              "                                                     [key], {});\n",
              "          if (!dataTable) return;\n",
              "\n",
              "          const docLinkHtml = 'Like what you see? Visit the ' +\n",
              "            '<a target=\"_blank\" href=https://colab.research.google.com/notebooks/data_table.ipynb>data table notebook</a>'\n",
              "            + ' to learn more about interactive tables.';\n",
              "          element.innerHTML = '';\n",
              "          dataTable['output_type'] = 'display_data';\n",
              "          await google.colab.output.renderOutput(dataTable, element);\n",
              "          const docLink = document.createElement('div');\n",
              "          docLink.innerHTML = docLinkHtml;\n",
              "          element.appendChild(docLink);\n",
              "        }\n",
              "      </script>\n",
              "    </div>\n",
              "  </div>\n",
              "  "
            ]
          },
          "metadata": {},
          "execution_count": 23
        }
      ]
    },
    {
      "cell_type": "code",
      "source": [
        "desvio_padrao_aprovados = [round(df_base_unificada_tratada.query('Disciplina == \"Programação\" & Situação == \"Aprovado\" & Ano != 2018')['Média'].loc[df_base_unificada_tratada['Disciplina']==\"Programação\"].std(),2), round(df_base_unificada_tratada.query('Disciplina == \"Matemática\" & Situação == \"Aprovado\" & Ano != 2018')['Média'].loc[df_base_unificada_tratada['Disciplina']==\"Matemática\"].std(),2), round(df_base_unificada_tratada.query('Disciplina == \"Lógica\" & Situação == \"Aprovado\" & Ano != 2018')['Média'].loc[df_base_unificada_tratada['Disciplina']==\"Lógica\"].std(),2)]\n",
        "\n",
        "dicionário = {\n",
        "    'Desvio Padrão (Aprovados)': desvio_padrao_aprovados\n",
        "}\n",
        "df = pd.DataFrame(dicionário)\n",
        "df_dp_aprovado = df.T\n",
        "df_dp_aprovado = df_dp_aprovado.rename(columns={0 : 'Programação', 1 : 'Matemática ', 2 : 'Lógica'})\n",
        "\n",
        "\n",
        "\n",
        "df_dp_aprovado"
      ],
      "metadata": {
        "colab": {
          "base_uri": "https://localhost:8080/",
          "height": 81
        },
        "id": "HFvqRKQbSpXU",
        "outputId": "81aacf94-783e-448c-fe3b-f42f9e4fcc7a"
      },
      "execution_count": 24,
      "outputs": [
        {
          "output_type": "execute_result",
          "data": {
            "text/plain": [
              "                           Programação  Matemática   Lógica\n",
              "Desvio Padrão (Aprovados)         1.28         1.31    1.13"
            ],
            "text/html": [
              "\n",
              "  <div id=\"df-01e6fbf7-2f78-4c18-b821-3c1c027ba7be\">\n",
              "    <div class=\"colab-df-container\">\n",
              "      <div>\n",
              "<style scoped>\n",
              "    .dataframe tbody tr th:only-of-type {\n",
              "        vertical-align: middle;\n",
              "    }\n",
              "\n",
              "    .dataframe tbody tr th {\n",
              "        vertical-align: top;\n",
              "    }\n",
              "\n",
              "    .dataframe thead th {\n",
              "        text-align: right;\n",
              "    }\n",
              "</style>\n",
              "<table border=\"1\" class=\"dataframe\">\n",
              "  <thead>\n",
              "    <tr style=\"text-align: right;\">\n",
              "      <th></th>\n",
              "      <th>Programação</th>\n",
              "      <th>Matemática</th>\n",
              "      <th>Lógica</th>\n",
              "    </tr>\n",
              "  </thead>\n",
              "  <tbody>\n",
              "    <tr>\n",
              "      <th>Desvio Padrão (Aprovados)</th>\n",
              "      <td>1.28</td>\n",
              "      <td>1.31</td>\n",
              "      <td>1.13</td>\n",
              "    </tr>\n",
              "  </tbody>\n",
              "</table>\n",
              "</div>\n",
              "      <button class=\"colab-df-convert\" onclick=\"convertToInteractive('df-01e6fbf7-2f78-4c18-b821-3c1c027ba7be')\"\n",
              "              title=\"Convert this dataframe to an interactive table.\"\n",
              "              style=\"display:none;\">\n",
              "        \n",
              "  <svg xmlns=\"http://www.w3.org/2000/svg\" height=\"24px\"viewBox=\"0 0 24 24\"\n",
              "       width=\"24px\">\n",
              "    <path d=\"M0 0h24v24H0V0z\" fill=\"none\"/>\n",
              "    <path d=\"M18.56 5.44l.94 2.06.94-2.06 2.06-.94-2.06-.94-.94-2.06-.94 2.06-2.06.94zm-11 1L8.5 8.5l.94-2.06 2.06-.94-2.06-.94L8.5 2.5l-.94 2.06-2.06.94zm10 10l.94 2.06.94-2.06 2.06-.94-2.06-.94-.94-2.06-.94 2.06-2.06.94z\"/><path d=\"M17.41 7.96l-1.37-1.37c-.4-.4-.92-.59-1.43-.59-.52 0-1.04.2-1.43.59L10.3 9.45l-7.72 7.72c-.78.78-.78 2.05 0 2.83L4 21.41c.39.39.9.59 1.41.59.51 0 1.02-.2 1.41-.59l7.78-7.78 2.81-2.81c.8-.78.8-2.07 0-2.86zM5.41 20L4 18.59l7.72-7.72 1.47 1.35L5.41 20z\"/>\n",
              "  </svg>\n",
              "      </button>\n",
              "      \n",
              "  <style>\n",
              "    .colab-df-container {\n",
              "      display:flex;\n",
              "      flex-wrap:wrap;\n",
              "      gap: 12px;\n",
              "    }\n",
              "\n",
              "    .colab-df-convert {\n",
              "      background-color: #E8F0FE;\n",
              "      border: none;\n",
              "      border-radius: 50%;\n",
              "      cursor: pointer;\n",
              "      display: none;\n",
              "      fill: #1967D2;\n",
              "      height: 32px;\n",
              "      padding: 0 0 0 0;\n",
              "      width: 32px;\n",
              "    }\n",
              "\n",
              "    .colab-df-convert:hover {\n",
              "      background-color: #E2EBFA;\n",
              "      box-shadow: 0px 1px 2px rgba(60, 64, 67, 0.3), 0px 1px 3px 1px rgba(60, 64, 67, 0.15);\n",
              "      fill: #174EA6;\n",
              "    }\n",
              "\n",
              "    [theme=dark] .colab-df-convert {\n",
              "      background-color: #3B4455;\n",
              "      fill: #D2E3FC;\n",
              "    }\n",
              "\n",
              "    [theme=dark] .colab-df-convert:hover {\n",
              "      background-color: #434B5C;\n",
              "      box-shadow: 0px 1px 3px 1px rgba(0, 0, 0, 0.15);\n",
              "      filter: drop-shadow(0px 1px 2px rgba(0, 0, 0, 0.3));\n",
              "      fill: #FFFFFF;\n",
              "    }\n",
              "  </style>\n",
              "\n",
              "      <script>\n",
              "        const buttonEl =\n",
              "          document.querySelector('#df-01e6fbf7-2f78-4c18-b821-3c1c027ba7be button.colab-df-convert');\n",
              "        buttonEl.style.display =\n",
              "          google.colab.kernel.accessAllowed ? 'block' : 'none';\n",
              "\n",
              "        async function convertToInteractive(key) {\n",
              "          const element = document.querySelector('#df-01e6fbf7-2f78-4c18-b821-3c1c027ba7be');\n",
              "          const dataTable =\n",
              "            await google.colab.kernel.invokeFunction('convertToInteractive',\n",
              "                                                     [key], {});\n",
              "          if (!dataTable) return;\n",
              "\n",
              "          const docLinkHtml = 'Like what you see? Visit the ' +\n",
              "            '<a target=\"_blank\" href=https://colab.research.google.com/notebooks/data_table.ipynb>data table notebook</a>'\n",
              "            + ' to learn more about interactive tables.';\n",
              "          element.innerHTML = '';\n",
              "          dataTable['output_type'] = 'display_data';\n",
              "          await google.colab.output.renderOutput(dataTable, element);\n",
              "          const docLink = document.createElement('div');\n",
              "          docLink.innerHTML = docLinkHtml;\n",
              "          element.appendChild(docLink);\n",
              "        }\n",
              "      </script>\n",
              "    </div>\n",
              "  </div>\n",
              "  "
            ]
          },
          "metadata": {},
          "execution_count": 24
        }
      ]
    },
    {
      "cell_type": "code",
      "source": [
        "df_media_std_aprov= pd.merge(df_media_aprov, df_dp_aprovado, how = 'outer')\n",
        "df_media_std_aprov = df_media_std_aprov.rename(index={0 : \"Média Geral (Aprovados)\", 1 : \"Desvio Padrão (Aprovados)\"})\n",
        "df_media_std_aprov"
      ],
      "metadata": {
        "colab": {
          "base_uri": "https://localhost:8080/",
          "height": 112
        },
        "id": "axcnGV-Twlp8",
        "outputId": "81054e6b-e51d-4dea-fcfb-39964c7c32d1"
      },
      "execution_count": 25,
      "outputs": [
        {
          "output_type": "execute_result",
          "data": {
            "text/plain": [
              "                           Programação  Matemática   Lógica\n",
              "Média Geral (Aprovados)           7.93         7.79    7.97\n",
              "Desvio Padrão (Aprovados)         1.28         1.31    1.13"
            ],
            "text/html": [
              "\n",
              "  <div id=\"df-2dfd8783-c2ca-4d0d-918c-e950f0a3c495\">\n",
              "    <div class=\"colab-df-container\">\n",
              "      <div>\n",
              "<style scoped>\n",
              "    .dataframe tbody tr th:only-of-type {\n",
              "        vertical-align: middle;\n",
              "    }\n",
              "\n",
              "    .dataframe tbody tr th {\n",
              "        vertical-align: top;\n",
              "    }\n",
              "\n",
              "    .dataframe thead th {\n",
              "        text-align: right;\n",
              "    }\n",
              "</style>\n",
              "<table border=\"1\" class=\"dataframe\">\n",
              "  <thead>\n",
              "    <tr style=\"text-align: right;\">\n",
              "      <th></th>\n",
              "      <th>Programação</th>\n",
              "      <th>Matemática</th>\n",
              "      <th>Lógica</th>\n",
              "    </tr>\n",
              "  </thead>\n",
              "  <tbody>\n",
              "    <tr>\n",
              "      <th>Média Geral (Aprovados)</th>\n",
              "      <td>7.93</td>\n",
              "      <td>7.79</td>\n",
              "      <td>7.97</td>\n",
              "    </tr>\n",
              "    <tr>\n",
              "      <th>Desvio Padrão (Aprovados)</th>\n",
              "      <td>1.28</td>\n",
              "      <td>1.31</td>\n",
              "      <td>1.13</td>\n",
              "    </tr>\n",
              "  </tbody>\n",
              "</table>\n",
              "</div>\n",
              "      <button class=\"colab-df-convert\" onclick=\"convertToInteractive('df-2dfd8783-c2ca-4d0d-918c-e950f0a3c495')\"\n",
              "              title=\"Convert this dataframe to an interactive table.\"\n",
              "              style=\"display:none;\">\n",
              "        \n",
              "  <svg xmlns=\"http://www.w3.org/2000/svg\" height=\"24px\"viewBox=\"0 0 24 24\"\n",
              "       width=\"24px\">\n",
              "    <path d=\"M0 0h24v24H0V0z\" fill=\"none\"/>\n",
              "    <path d=\"M18.56 5.44l.94 2.06.94-2.06 2.06-.94-2.06-.94-.94-2.06-.94 2.06-2.06.94zm-11 1L8.5 8.5l.94-2.06 2.06-.94-2.06-.94L8.5 2.5l-.94 2.06-2.06.94zm10 10l.94 2.06.94-2.06 2.06-.94-2.06-.94-.94-2.06-.94 2.06-2.06.94z\"/><path d=\"M17.41 7.96l-1.37-1.37c-.4-.4-.92-.59-1.43-.59-.52 0-1.04.2-1.43.59L10.3 9.45l-7.72 7.72c-.78.78-.78 2.05 0 2.83L4 21.41c.39.39.9.59 1.41.59.51 0 1.02-.2 1.41-.59l7.78-7.78 2.81-2.81c.8-.78.8-2.07 0-2.86zM5.41 20L4 18.59l7.72-7.72 1.47 1.35L5.41 20z\"/>\n",
              "  </svg>\n",
              "      </button>\n",
              "      \n",
              "  <style>\n",
              "    .colab-df-container {\n",
              "      display:flex;\n",
              "      flex-wrap:wrap;\n",
              "      gap: 12px;\n",
              "    }\n",
              "\n",
              "    .colab-df-convert {\n",
              "      background-color: #E8F0FE;\n",
              "      border: none;\n",
              "      border-radius: 50%;\n",
              "      cursor: pointer;\n",
              "      display: none;\n",
              "      fill: #1967D2;\n",
              "      height: 32px;\n",
              "      padding: 0 0 0 0;\n",
              "      width: 32px;\n",
              "    }\n",
              "\n",
              "    .colab-df-convert:hover {\n",
              "      background-color: #E2EBFA;\n",
              "      box-shadow: 0px 1px 2px rgba(60, 64, 67, 0.3), 0px 1px 3px 1px rgba(60, 64, 67, 0.15);\n",
              "      fill: #174EA6;\n",
              "    }\n",
              "\n",
              "    [theme=dark] .colab-df-convert {\n",
              "      background-color: #3B4455;\n",
              "      fill: #D2E3FC;\n",
              "    }\n",
              "\n",
              "    [theme=dark] .colab-df-convert:hover {\n",
              "      background-color: #434B5C;\n",
              "      box-shadow: 0px 1px 3px 1px rgba(0, 0, 0, 0.15);\n",
              "      filter: drop-shadow(0px 1px 2px rgba(0, 0, 0, 0.3));\n",
              "      fill: #FFFFFF;\n",
              "    }\n",
              "  </style>\n",
              "\n",
              "      <script>\n",
              "        const buttonEl =\n",
              "          document.querySelector('#df-2dfd8783-c2ca-4d0d-918c-e950f0a3c495 button.colab-df-convert');\n",
              "        buttonEl.style.display =\n",
              "          google.colab.kernel.accessAllowed ? 'block' : 'none';\n",
              "\n",
              "        async function convertToInteractive(key) {\n",
              "          const element = document.querySelector('#df-2dfd8783-c2ca-4d0d-918c-e950f0a3c495');\n",
              "          const dataTable =\n",
              "            await google.colab.kernel.invokeFunction('convertToInteractive',\n",
              "                                                     [key], {});\n",
              "          if (!dataTable) return;\n",
              "\n",
              "          const docLinkHtml = 'Like what you see? Visit the ' +\n",
              "            '<a target=\"_blank\" href=https://colab.research.google.com/notebooks/data_table.ipynb>data table notebook</a>'\n",
              "            + ' to learn more about interactive tables.';\n",
              "          element.innerHTML = '';\n",
              "          dataTable['output_type'] = 'display_data';\n",
              "          await google.colab.output.renderOutput(dataTable, element);\n",
              "          const docLink = document.createElement('div');\n",
              "          docLink.innerHTML = docLinkHtml;\n",
              "          element.appendChild(docLink);\n",
              "        }\n",
              "      </script>\n",
              "    </div>\n",
              "  </div>\n",
              "  "
            ]
          },
          "metadata": {},
          "execution_count": 25
        }
      ]
    },
    {
      "cell_type": "code",
      "source": [
        "\n",
        "\n",
        "plt.figure(figsize=(10,8))\n",
        "\n",
        "# Create a sample dataframe\n",
        "df = pd.DataFrame({'Aprovados': media_aprovados,\n",
        "                  'Reprovados': media_reprovados},\n",
        "                  index=['Programação', 'Matemática', 'Lógica'])\n",
        "\n",
        "  \n",
        "# Plot grouped horizontal bar chart\n",
        "df.plot.barh(\n",
        "             color={\"forestgreen\", \"firebrick\"})\n",
        "\n",
        "plt.xticks(np.arange(0,11))\n",
        "\n",
        "plt.show()"
      ],
      "metadata": {
        "colab": {
          "base_uri": "https://localhost:8080/",
          "height": 282
        },
        "id": "2BAUMCnsKakH",
        "outputId": "4cc7588d-011c-403a-cc16-9ba36e3679d9"
      },
      "execution_count": 37,
      "outputs": [
        {
          "output_type": "display_data",
          "data": {
            "text/plain": [
              "<Figure size 720x576 with 0 Axes>"
            ]
          },
          "metadata": {}
        },
        {
          "output_type": "display_data",
          "data": {
            "text/plain": [
              "<Figure size 432x288 with 1 Axes>"
            ],
            "image/png": "[encoded data removed]"
          },
          "metadata": {
            "needs_background": "light"
          }
        }
      ]
    },
    {
      "cell_type": "markdown",
      "source": [
        "# **Tamanho Amostral do Questionário**"
      ],
      "metadata": {
        "id": "mHVKYrKHcrZW"
      }
    },
    {
      "cell_type": "code",
      "source": [
        "# desconsidera os alunos com situação 'Trancado' e 'Cancelado'\n",
        "Alunos_cursaram = df_disciplinas_unificadas_PreExclusao[(df_disciplinas_unificadas_PreExclusao.Situação != 'Trancado') & (df_disciplinas_unificadas_PreExclusao.Situação != 'Cancelado')]\n",
        "Volumetria_Alunos_cursaram= len(pd.unique(Alunos_cursaram['Aluno']))\n",
        "\n",
        "\n",
        "print(\"Alunos distintos que cursaram as disciplinas: \", Volumetria_Alunos_cursaram)"
      ],
      "metadata": {
        "colab": {
          "base_uri": "https://localhost:8080/"
        },
        "id": "xHV8oVnaczEP",
        "outputId": "e8e05bab-3cb6-4d36-8035-045c362798d6"
      },
      "execution_count": 27,
      "outputs": [
        {
          "output_type": "stream",
          "name": "stdout",
          "text": [
            "Alunos distintos que cursaram as disciplinas:  405\n"
          ]
        }
      ]
    },
    {
      "cell_type": "code",
      "source": [
        "# Cálculo tamanho amostral desejável para o questionário\n",
        "\n",
        "N_ = Volumetria_Alunos_cursaram       # -> tam. amostra\n",
        "z_ = 1.96                             # -> score Z\n",
        "e_ = 0.05                             # -> margem de erro\n",
        "p_ = 0.5                              # -> desvio padrão\n",
        "\n",
        "\n",
        "def Tamanho_Amostra_Questionario(N, z, e, p):\n",
        "\n",
        "    n = (z**2 * p*(1-p))/e**2 / (1 + (z**2 * p*(1-p)/(e**2 * N)))\n",
        "\n",
        "    return (math.ceil(n))\n",
        "\n",
        "print(Tamanho_Amostra_Questionario(N_,z_,e_,p_))"
      ],
      "metadata": {
        "colab": {
          "base_uri": "https://localhost:8080/"
        },
        "id": "jBK8GdIjc8tM",
        "outputId": "051d69c3-b2ed-41e4-ac58-5aa94c0a8cd2"
      },
      "execution_count": 28,
      "outputs": [
        {
          "output_type": "stream",
          "name": "stdout",
          "text": [
            "198\n"
          ]
        }
      ]
    }
  ]
}